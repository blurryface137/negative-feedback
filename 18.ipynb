{
  "cells": [
    {
      "cell_type": "code",
      "execution_count": 1,
      "metadata": {
        "colab": {
          "base_uri": "https://localhost:8080/"
        },
        "id": "dt_qalfqraDj",
        "outputId": "56dd7e7e-c8cd-4cbf-b66a-f2f105f1649e"
      },
      "outputs": [
        {
          "name": "stdout",
          "output_type": "stream",
          "text": [
            "Cloning into 'temp_folder'...\n",
            "remote: Enumerating objects: 182, done.\u001b[K\n",
            "remote: Counting objects: 100% (182/182), done.\u001b[K\n",
            "remote: Compressing objects: 100% (139/139), done.\u001b[K\n",
            "remote: Total 182 (delta 91), reused 111 (delta 36), pack-reused 0 (from 0)\u001b[K\n",
            "Receiving objects: 100% (182/182), 19.23 MiB | 12.99 MiB/s, done.\n",
            "Resolving deltas: 100% (91/91), done.\n"
          ]
        }
      ],
      "source": [
        "!git clone https://github.com/asash/gSASRec-pytorch.git temp_folder\n",
        "!mv temp_folder/* temp_folder/.[!.]* .\n",
        "!rm -rf temp_folder"
      ]
    },
    {
      "cell_type": "code",
      "execution_count": 2,
      "metadata": {
        "id": "i8HuUrXrrhXU"
      },
      "outputs": [],
      "source": [
        "%load_ext autoreload\n",
        "%autoreload 2"
      ]
    },
    {
      "cell_type": "code",
      "execution_count": 3,
      "metadata": {
        "colab": {
          "base_uri": "https://localhost:8080/"
        },
        "id": "OdfacbKark0k",
        "outputId": "4110c0d6-8574-482b-9838-3a9717133913"
      },
      "outputs": [
        {
          "name": "stdout",
          "output_type": "stream",
          "text": [
            "\u001b[?25l   \u001b[90m━━━━━━━━━━━━━━━━━━━━━━━━━━━━━━━━━━━━━━━━\u001b[0m \u001b[32m0.0/485.4 kB\u001b[0m \u001b[31m?\u001b[0m eta \u001b[36m-:--:--\u001b[0m\r\u001b[2K   \u001b[91m━━━━━━━━━━━━━━━━━━━\u001b[0m\u001b[90m╺\u001b[0m\u001b[90m━━━━━━━━━━━━━━━━━━━━\u001b[0m \u001b[32m235.5/485.4 kB\u001b[0m \u001b[31m6.9 MB/s\u001b[0m eta \u001b[36m0:00:01\u001b[0m\r\u001b[2K   \u001b[90m━━━━━━━━━━━━━━━━━━━━━━━━━━━━━━━━━━━━━━━━\u001b[0m \u001b[32m485.4/485.4 kB\u001b[0m \u001b[31m7.5 MB/s\u001b[0m eta \u001b[36m0:00:00\u001b[0m\n",
            "\u001b[2K   \u001b[90m━━━━━━━━━━━━━━━━━━━━━━━━━━━━━━━━━━━━━━━━\u001b[0m \u001b[32m116.3/116.3 kB\u001b[0m \u001b[31m8.3 MB/s\u001b[0m eta \u001b[36m0:00:00\u001b[0m\n",
            "\u001b[2K   \u001b[90m━━━━━━━━━━━━━━━━━━━━━━━━━━━━━━━━━━━━━━━━\u001b[0m \u001b[32m143.5/143.5 kB\u001b[0m \u001b[31m9.7 MB/s\u001b[0m eta \u001b[36m0:00:00\u001b[0m\n",
            "\u001b[2K   \u001b[90m━━━━━━━━━━━━━━━━━━━━━━━━━━━━━━━━━━━━━━━━\u001b[0m \u001b[32m194.8/194.8 kB\u001b[0m \u001b[31m14.9 MB/s\u001b[0m eta \u001b[36m0:00:00\u001b[0m\n",
            "\u001b[2K   \u001b[90m━━━━━━━━━━━━━━━━━━━━━━━━━━━━━━━━━━━━━━━━\u001b[0m \u001b[32m60.1/60.1 kB\u001b[0m \u001b[31m1.9 MB/s\u001b[0m eta \u001b[36m0:00:00\u001b[0m\n",
            "\u001b[2K   \u001b[90m━━━━━━━━━━━━━━━━━━━━━━━━━━━━━━━━━━━━━━━━\u001b[0m \u001b[32m287.9/287.9 kB\u001b[0m \u001b[31m5.7 MB/s\u001b[0m eta \u001b[36m0:00:00\u001b[0m\n",
            "\u001b[?25h"
          ]
        }
      ],
      "source": [
        "!pip install datasets -q\n",
        "!pip install ir_measures -q\n",
        "!pip install torchinfo -q\n",
        "!pip install kagglehub -q"
      ]
    },
    {
      "cell_type": "code",
      "execution_count": 4,
      "metadata": {
        "id": "uMrDVO7FrmEj"
      },
      "outputs": [],
      "source": [
        "import sys\n",
        "import torch\n",
        "import requests\n",
        "import numpy as np\n",
        "import datasets\n",
        "import ir_measures\n",
        "from tqdm import tqdm\n",
        "import torchinfo\n",
        "import pandas as pd\n",
        "import numpy as np\n",
        "import kagglehub\n",
        "import shutil"
      ]
    },
    {
      "cell_type": "code",
      "execution_count": 5,
      "metadata": {
        "id": "UTWmquE8rnrx"
      },
      "outputs": [],
      "source": [
        "from config import GSASRecExperimentConfig\n",
        "from dataset_utils import *\n",
        "from eval_utils import evaluate\n",
        "from gsasrec import GSASRec\n",
        "from transformer_decoder import MultiHeadAttention, TransformerBlock"
      ]
    },
    {
      "cell_type": "code",
      "execution_count": 6,
      "metadata": {
        "colab": {
          "base_uri": "https://localhost:8080/",
          "height": 87
        },
        "id": "f89mfis6rpY1",
        "outputId": "55234d5a-09f5-4148-e402-4d15fe595121"
      },
      "outputs": [
        {
          "name": "stdout",
          "output_type": "stream",
          "text": [
            "Downloading from https://www.kaggle.com/api/v1/datasets/download/retailrocket/ecommerce-dataset?dataset_version_number=2...\n"
          ]
        },
        {
          "name": "stderr",
          "output_type": "stream",
          "text": [
            "100%|██████████| 291M/291M [00:07<00:00, 42.6MB/s]"
          ]
        },
        {
          "name": "stdout",
          "output_type": "stream",
          "text": [
            "Extracting files...\n"
          ]
        },
        {
          "name": "stderr",
          "output_type": "stream",
          "text": [
            "\n"
          ]
        },
        {
          "data": {
            "application/vnd.google.colaboratory.intrinsic+json": {
              "type": "string"
            },
            "text/plain": [
              "'/content/datasets/retailrocket'"
            ]
          },
          "execution_count": 6,
          "metadata": {},
          "output_type": "execute_result"
        }
      ],
      "source": [
        "path = kagglehub.dataset_download(\"retailrocket/ecommerce-dataset\")\n",
        "dest_path = \"/content/datasets/retailrocket\"\n",
        "shutil.move(path, dest_path)"
      ]
    },
    {
      "cell_type": "code",
      "execution_count": 7,
      "metadata": {
        "colab": {
          "base_uri": "https://localhost:8080/"
        },
        "id": "gcsOTiLbr9vo",
        "outputId": "a5212869-8f9f-45ec-8e1a-3b60125b45b2"
      },
      "outputs": [
        {
          "name": "stdout",
          "output_type": "stream",
          "text": [
            "{\n",
            "    \"num_users\": 7359,\n",
            "    \"num_items\": 98043,\n",
            "    \"num_interactions\": 168393,\n",
            "    \"#sequences\": 7359,\n",
            "    \"#clicks (view)\": 131814,\n",
            "    \"#purchase (addtocart)\": 36579\n",
            "}\n"
          ]
        }
      ],
      "source": [
        "import csv\n",
        "from collections import defaultdict\n",
        "import numpy as np\n",
        "import json\n",
        "from pathlib import Path\n",
        "\n",
        "DATASET_DIR = Path('/content/datasets/retailrocket/events.csv').parent\n",
        "TRAIN_DIR = DATASET_DIR / \"train\"\n",
        "VAL_DIR = DATASET_DIR / \"val\"\n",
        "TEST_DIR = DATASET_DIR / \"test\"\n",
        "RAW_FILE = DATASET_DIR / \"events.csv\"\n",
        "\n",
        "\"\"\"\n",
        "1) формируем для каждого пользователя последовательность позитивов (addtocart) и негативов (view)\n",
        "2) Удаляем из негативов те itemid, которые у этого же user оказались в позитиве.\n",
        "3) Отсеиваем товары (itemid), у которых <3 взаимодействий (view+addtocart).\n",
        "4) Удаляем пользователей, у которых после этого <3 событий.\n",
        "5) Переиндексируем itemid в диапазон [1..num_unique_items].\n",
        "6) формируем на train/val/test:\n",
        "   - ищем последний и предпоследний ПОЛОЖИТЕЛЬНЫЕ (addtocart) ивенты,\n",
        "   - Остальные ивенты (включая негативные) до предпоследнего позитива => train,\n",
        "   - Предпоследний позитив => val/output, всё, что до него => val/input,\n",
        "   - Последний позитив => test/output, всё, что до него => test/input.\n",
        "   Если у пользователя <2 позитивов, пропускаем такого пользователя.\n",
        "7) Для train сохраняем раздельные файлы: input_pos.txt, input_neg.txt (только последовательность до val_idx).\n",
        "   Для val/test – формат ml1m: input.txt, output.txt.\n",
        "\"\"\"\n",
        "\n",
        "def preprocess_and_split():\n",
        "    DATASET_DIR.mkdir(exist_ok=True)\n",
        "    TRAIN_DIR.mkdir(exist_ok=True)\n",
        "    VAL_DIR.mkdir(exist_ok=True)\n",
        "    TEST_DIR.mkdir(exist_ok=True)\n",
        "\n",
        "\n",
        "    user_events = defaultdict(list)\n",
        "\n",
        "    with open(RAW_FILE, 'r', encoding='utf-8') as f:\n",
        "        reader = csv.DictReader(f, delimiter=',')\n",
        "        for row in reader:\n",
        "            visitor_id = row['visitorid']\n",
        "            event_type = row['event']\n",
        "            item_id = row['itemid']\n",
        "            timestamp = int(row['timestamp'])\n",
        "\n",
        "            if event_type not in ['view', 'addtocart']:\n",
        "                continue\n",
        "\n",
        "            label = 1 if event_type == 'addtocart' else 0\n",
        "            user_events[visitor_id].append((timestamp, item_id, label))\n",
        "\n",
        "    # Шаг 1-2\n",
        "    user_positive_items = defaultdict(set)\n",
        "    for u, events in user_events.items():\n",
        "        for (ts, it, lab) in events:\n",
        "            if lab == 1:\n",
        "                user_positive_items[u].add(it)\n",
        "\n",
        "    for u, events in user_events.items():\n",
        "        filtered = []\n",
        "        for (ts, it, lab) in events:\n",
        "            # если это негатив, но item встречался в позитиве => выкидываем\n",
        "            if lab == 0 and it in user_positive_items[u]:\n",
        "                continue\n",
        "            filtered.append((ts, it, lab))\n",
        "        user_events[u] = filtered\n",
        "\n",
        "    # Шаг 3\n",
        "    item_freq = defaultdict(int)\n",
        "    for u, events in user_events.items():\n",
        "        for (ts, it, lab) in events:\n",
        "            item_freq[it] += 1\n",
        "\n",
        "    valid_items = {it for it, f in item_freq.items() if f >= 3}\n",
        "\n",
        "    # Шаг 4\n",
        "    users_to_delete = []\n",
        "    for u, events in user_events.items():\n",
        "        filtered = [(ts, it, lab) for (ts, it, lab) in events if it in valid_items]\n",
        "        if len(filtered) < 3:\n",
        "            users_to_delete.append(u)\n",
        "        else:\n",
        "            user_events[u] = filtered\n",
        "\n",
        "    for u in users_to_delete:\n",
        "        del user_events[u]\n",
        "\n",
        "    # Шаг 5\n",
        "    all_items = set()\n",
        "    for u, events in user_events.items():\n",
        "        for (ts, it, lab) in events:\n",
        "            all_items.add(it)\n",
        "    all_items = sorted(all_items)\n",
        "    new_id = {}\n",
        "    for i, old in enumerate(all_items, start=1):\n",
        "        new_id[old] = i\n",
        "\n",
        "    for u in user_events:\n",
        "        tmp = []\n",
        "        for (ts, it, lab) in user_events[u]:\n",
        "            tmp.append((ts, new_id[it], lab))\n",
        "        user_events[u] = tmp\n",
        "\n",
        "\n",
        "    num_sequences = 0\n",
        "    num_clicks = 0\n",
        "    num_purchase = 0\n",
        "\n",
        "    # Шаг 6\n",
        "    train_pos_sequences = []\n",
        "    train_neg_sequences = []\n",
        "    val_input = []\n",
        "    val_output = []\n",
        "    test_input = []\n",
        "    test_output = []\n",
        "\n",
        "    for u, events in user_events.items():\n",
        "        events_sorted = sorted(events, key=lambda x: x[0])  # сорт по времени\n",
        "        # индексы позитивов\n",
        "        pos_indices = [i for i, e in enumerate(events_sorted) if e[2] == 1]\n",
        "        if len(pos_indices) < 2:\n",
        "            # если <2 позитивов, пропускаем\n",
        "            continue\n",
        "\n",
        "        # Предпоследний и последний позитив\n",
        "        val_idx = pos_indices[-2]\n",
        "        test_idx = pos_indices[-1]\n",
        "\n",
        "        # train = события до val_idx\n",
        "        train_evts = events_sorted[:val_idx]\n",
        "        val_evt = events_sorted[val_idx]   # валидационный позитив\n",
        "        test_evt = events_sorted[test_idx] # тестовый позитив\n",
        "\n",
        "        val_input_events = events_sorted[:val_idx]\n",
        "        # test_input = всё до test_idx\n",
        "        test_input_events = events_sorted[:test_idx]\n",
        "\n",
        "        all_user_events = events_sorted  # для подсчёта кликов/покупок\n",
        "        num_sequences += 1\n",
        "        for (_, _, lab) in all_user_events:\n",
        "            if lab == 0:\n",
        "                num_clicks += 1\n",
        "            else:\n",
        "                num_purchase += 1\n",
        "\n",
        "        # формируем train_pos/train_neg\n",
        "        train_pos_list = []\n",
        "        train_neg_list = []\n",
        "        for (ts, it, lab) in train_evts:\n",
        "            if lab == 1:\n",
        "                train_pos_list.append(it)\n",
        "            else:\n",
        "                train_neg_list.append(it)\n",
        "\n",
        "        train_pos_sequences.append(train_pos_list)\n",
        "        train_neg_sequences.append(train_neg_list)\n",
        "\n",
        "        # val\n",
        "        val_input.append([it for (ts, it, lab) in val_input_events])\n",
        "        val_output.append(val_evt[1])\n",
        "\n",
        "        # test\n",
        "        test_input.append([it for (ts, it, lab) in test_input_events])\n",
        "        test_output.append(test_evt[1])\n",
        "\n",
        "    TRAIN_DIR.mkdir(exist_ok=True)\n",
        "    VAL_DIR.mkdir(exist_ok=True)\n",
        "    TEST_DIR.mkdir(exist_ok=True)\n",
        "\n",
        "    with open(TRAIN_DIR / \"input_pos.txt\", \"w\") as f:\n",
        "        for seq in train_pos_sequences:\n",
        "            f.write(\" \".join(map(str, seq)) + \"\\n\")\n",
        "\n",
        "    with open(TRAIN_DIR / \"input_neg.txt\", \"w\") as f:\n",
        "        for seq in train_neg_sequences:\n",
        "            f.write(\" \".join(map(str, seq)) + \"\\n\")\n",
        "\n",
        "    with open(VAL_DIR / \"input.txt\", \"w\") as f:\n",
        "        for seq in val_input:\n",
        "            f.write(\" \".join(map(str, seq)) + \"\\n\")\n",
        "\n",
        "    with open(VAL_DIR / \"output.txt\", \"w\") as f:\n",
        "        for it in val_output:\n",
        "            f.write(str(it) + \"\\n\")\n",
        "\n",
        "    with open(TEST_DIR / \"input.txt\", \"w\") as f:\n",
        "        for seq in test_input:\n",
        "            f.write(\" \".join(map(str, seq)) + \"\\n\")\n",
        "\n",
        "    with open(TEST_DIR / \"output.txt\", \"w\") as f:\n",
        "        for it in test_output:\n",
        "            f.write(str(it) + \"\\n\")\n",
        "\n",
        "    num_items = len(all_items)\n",
        "    num_interactions = num_clicks + num_purchase\n",
        "\n",
        "    stats = {\n",
        "        \"num_users\": num_sequences,\n",
        "        \"num_items\": num_items,\n",
        "        \"num_interactions\": num_interactions,\n",
        "        \"#sequences\": num_sequences,\n",
        "        \"#clicks (view)\": num_clicks,\n",
        "        \"#purchase (addtocart)\": num_purchase\n",
        "    }\n",
        "    print(json.dumps(stats, indent=4))\n",
        "\n",
        "    with open(DATASET_DIR / \"dataset_stats.json\", \"w\") as f:\n",
        "        json.dump(stats, f, indent=4)\n",
        "\n",
        "\n",
        "if __name__ == \"__main__\":\n",
        "    preprocess_and_split()"
      ]
    },
    {
      "cell_type": "code",
      "execution_count": null,
      "metadata": {
        "id": "80F9VGqHt-4f"
      },
      "outputs": [],
      "source": [
        "# config_retailrocket\n",
        "\n",
        "from config import GSASRecExperimentConfig\n",
        "from ir_measures import nDCG, R\n",
        "\n",
        "config = GSASRecExperimentConfig(\n",
        "    dataset_name='retailrocket',\n",
        "    sequence_length=200,\n",
        "    embedding_dim=128,\n",
        "    num_heads=1,\n",
        "    max_batches_per_epoch=100,\n",
        "    num_blocks=2,\n",
        "    dropout_rate=0.5,\n",
        "    negs_per_pos=None,        #\n",
        "    gbce_t = 0.0,\n",
        "    reuse_item_embeddings=False,\n",
        "    metrics=[nDCG@10, R@1, R@10],\n",
        "    val_metric=nDCG@10,\n",
        "    early_stopping_patience=20,\n",
        "    max_epochs=10000\n",
        ")"
      ]
    },
    {
      "cell_type": "code",
      "execution_count": null,
      "metadata": {
        "id": "cUlKh9mYteYA"
      },
      "outputs": [],
      "source": [
        "# dataset_utils.py\n",
        "\n",
        "import json\n",
        "import torch\n",
        "from torch.utils.data import Dataset, DataLoader\n",
        "\n",
        "class SequenceWithNegDataset(Dataset):\n",
        "    \"\"\"\n",
        "    Для train: храним два файла:\n",
        "      1) input_pos.txt: каждая строка — последовательность позитивных itemid\n",
        "      2) input_neg.txt: соответствующая строка — последовательность негативных itemid\n",
        "\n",
        "    При этом предполагается, что длины строк совпадают по индексам\n",
        "    или, как минимум, они соответствуют одному пользователю, но длины могут различаться.\n",
        "\n",
        "    В __getitem__(idx) возвращаем (pos_list, neg_list).\n",
        "    \"\"\"\n",
        "    def __init__(self, pos_file, neg_file, padding_value, max_length=200):\n",
        "        with open(pos_file, 'r') as f:\n",
        "            self.pos_sequences = [list(map(int, line.strip().split())) for line in f]\n",
        "        with open(neg_file, 'r') as f:\n",
        "            self.neg_sequences = [list(map(int, line.strip().split())) for line in f]\n",
        "\n",
        "        # проверяем, что pos и neg идут в том же порядке пользователей (одинаковое количество строк)\n",
        "        assert len(self.pos_sequences) == len(self.neg_sequences), \\\n",
        "            \"pos_file и neg_file должны иметь одинаковое число строк (одинаковое число пользователей)\"\n",
        "\n",
        "        self.max_length = max_length\n",
        "        self.padding_value = padding_value\n",
        "\n",
        "    def __len__(self):\n",
        "        return len(self.pos_sequences)\n",
        "\n",
        "    def __getitem__(self, idx):\n",
        "        pos_seq = self.pos_sequences[idx]\n",
        "        neg_seq = self.neg_sequences[idx]\n",
        "        # обрежем или дополним до max_length\n",
        "        if len(pos_seq) > self.max_length:\n",
        "            pos_seq = pos_seq[-self.max_length:]\n",
        "        else:\n",
        "            pos_seq = [self.padding_value]*(self.max_length - len(pos_seq)) + pos_seq\n",
        "\n",
        "        if len(neg_seq) > self.max_length:\n",
        "            neg_seq = neg_seq[-self.max_length:]\n",
        "        else:\n",
        "            neg_seq = [self.padding_value]*(self.max_length - len(neg_seq)) + neg_seq\n",
        "\n",
        "        return torch.tensor(pos_seq, dtype=torch.long), torch.tensor(neg_seq, dtype=torch.long)\n",
        "\n",
        "\n",
        "class SequenceDataset(Dataset):\n",
        "    def __init__(self, input_file, padding_value, output_file=None, max_length=200):\n",
        "        with open(input_file, 'r') as f:\n",
        "            self.inputs = [list(map(int, line.strip().split())) for line in f]\n",
        "\n",
        "        if output_file:\n",
        "            with open(output_file, 'r') as f:\n",
        "                self.outputs = [int(line.strip()) for line in f]\n",
        "        else:\n",
        "            self.outputs = None\n",
        "\n",
        "        self.max_length = max_length\n",
        "        self.padding_value = padding_value\n",
        "\n",
        "    def __len__(self):\n",
        "        return len(self.inputs)\n",
        "\n",
        "    def __getitem__(self, idx):\n",
        "        inp = self.inputs[idx]\n",
        "        rated = set(inp)\n",
        "        if len(inp) > self.max_length:\n",
        "            inp = inp[-self.max_length:]\n",
        "        else:\n",
        "            inp = [self.padding_value]*(self.max_length - len(inp)) + inp\n",
        "\n",
        "        inp_tensor = torch.tensor(inp, dtype=torch.long)\n",
        "\n",
        "        if self.outputs is not None:\n",
        "            out_tensor = torch.tensor(self.outputs[idx], dtype=torch.long)\n",
        "            return inp_tensor, rated, out_tensor\n",
        "        else:\n",
        "            return (inp_tensor, )\n",
        "\n",
        "\n",
        "def collate_val_test(batch):\n",
        "    # для валидации/теста\n",
        "    input_tensors = []\n",
        "    rated_list = []\n",
        "    output_tensors = []\n",
        "\n",
        "    for x in batch:\n",
        "        inp, rated, out = x\n",
        "        input_tensors.append(inp)\n",
        "        rated_list.append(rated)\n",
        "        output_tensors.append(out)\n",
        "\n",
        "    input_tensors = torch.stack(input_tensors, dim=0)\n",
        "    output_tensors = torch.stack(output_tensors, dim=0)\n",
        "    return [input_tensors, rated_list, output_tensors]\n",
        "\n",
        "\n",
        "def not_to_recommend_collate(batch, pad_value):\n",
        "    \"\"\"\n",
        "    Коллатер для train. На входе список кортежей (pos_seq, neg_seq).\n",
        "    Нужно сформировать общий батч.\n",
        "    Каждую позицию в pos_seq считаем позитивным примером (label=1),\n",
        "    в neg_seq — негативным (label=0).\n",
        "    Возвращаем: (batch_items, batch_labels),\n",
        "    где batch_items.shape = [B, 2, max_len], batch_labels.shape = [B, 2, max_len].\n",
        "    Или собираем их подряд. Здесь есть много вариантов;\n",
        "    используем \"склеить по размерности seq_len\" и хранить отдельно mask.\n",
        "    \"\"\"\n",
        "\n",
        "    # batch_pos.shape = [B, max_len], batch_neg.shape = [B, max_len]\n",
        "    # labels_pos = ones, labels_neg = zeros\n",
        "    pos_list = []\n",
        "    neg_list = []\n",
        "    for (pos_seq, neg_seq) in batch:\n",
        "        pos_list.append(pos_seq)\n",
        "        neg_list.append(neg_seq)\n",
        "\n",
        "    pos_tensor = torch.stack(pos_list, dim=0)  # [B, max_len]\n",
        "    neg_tensor = torch.stack(neg_list, dim=0)  # [B, max_len]\n",
        "\n",
        "    # тензор меток\n",
        "    pos_labels = torch.ones_like(pos_tensor)\n",
        "    neg_labels = torch.zeros_like(neg_tensor)\n",
        "\n",
        "    return pos_tensor, neg_tensor, pos_labels, neg_labels\n",
        "\n",
        "\n",
        "def get_padding_value(dataset_name):\n",
        "    with open(f\"datasets/{dataset_name}/dataset_stats.json\", 'r') as f:\n",
        "        stats = json.load(f)\n",
        "    padding_value = stats['num_items'] + 1\n",
        "    return padding_value\n",
        "\n",
        "\n",
        "def get_num_items(dataset_name):\n",
        "    with open(f\"datasets/{dataset_name}/dataset_stats.json\", 'r') as f:\n",
        "        stats = json.load(f)\n",
        "    return stats['num_items']\n",
        "\n",
        "\n",
        "def get_train_dataloader(dataset_name, batch_size=32, max_length=200):\n",
        "    \"\"\"\n",
        "    Возвращаем DataLoader, который читает файлы input_pos.txt и input_neg.txt,\n",
        "    и коллатит их в батчи с явными негативами.\n",
        "    \"\"\"\n",
        "    dataset_dir = f\"datasets/{dataset_name}\"\n",
        "    pad_val = get_padding_value(dataset_name)\n",
        "\n",
        "    pos_file = f\"{dataset_dir}/train/input_pos.txt\"\n",
        "    neg_file = f\"{dataset_dir}/train/input_neg.txt\"\n",
        "\n",
        "    train_dataset = SequenceWithNegDataset(pos_file, neg_file, padding_value=pad_val, max_length=max_length)\n",
        "    train_loader = DataLoader(\n",
        "        train_dataset,\n",
        "        batch_size=batch_size,\n",
        "        shuffle=True,\n",
        "        collate_fn=lambda b: not_to_recommend_collate(b, pad_val)\n",
        "    )\n",
        "    return train_loader\n",
        "\n",
        "\n",
        "def get_val_dataloader(dataset_name, batch_size=32, max_length=200):\n",
        "    dataset_dir = f\"datasets/{dataset_name}\"\n",
        "    pad_val = get_padding_value(dataset_name)\n",
        "    inp_file = f\"{dataset_dir}/val/input.txt\"\n",
        "    out_file = f\"{dataset_dir}/val/output.txt\"\n",
        "    val_dataset = SequenceDataset(inp_file, pad_val, out_file, max_length=max_length)\n",
        "    val_loader = DataLoader(val_dataset, batch_size=batch_size, shuffle=False, collate_fn=collate_val_test)\n",
        "    return val_loader\n",
        "\n",
        "\n",
        "def get_test_dataloader(dataset_name, batch_size=32, max_length=200):\n",
        "    dataset_dir = f\"datasets/{dataset_name}\"\n",
        "    pad_val = get_padding_value(dataset_name)\n",
        "    inp_file = f\"{dataset_dir}/test/input.txt\"\n",
        "    out_file = f\"{dataset_dir}/test/output.txt\"\n",
        "    test_dataset = SequenceDataset(inp_file, pad_val, out_file, max_length=max_length)\n",
        "    test_loader = DataLoader(test_dataset, batch_size=batch_size, shuffle=False, collate_fn=collate_val_test)\n",
        "    return test_loader"
      ]
    },
    {
      "cell_type": "code",
      "execution_count": null,
      "metadata": {
        "colab": {
          "base_uri": "https://localhost:8080/"
        },
        "id": "lnbp2ZJDsowR",
        "outputId": "23099219-9090-484d-834e-458643ddd2bf"
      },
      "outputs": [
        {
          "name": "stderr",
          "output_type": "stream",
          "text": [
            "Epoch 0, step 58, loss=8.432018164930673: 100%|██████████| 58/58 [00:02<00:00, 23.74it/s]\n",
            "100%|██████████| 15/15 [00:04<00:00,  3.70it/s]\n"
          ]
        },
        {
          "name": "stdout",
          "output_type": "stream",
          "text": [
            "Epoch 0 val_result: {R@1: 0.0, nDCG@10: 0.00018670875769996213, R@10: 0.00040766408479412964}\n",
            "New best model saved to models/gsasrec-retailrocket-epoch0-step58-val0.0002.pt\n"
          ]
        },
        {
          "name": "stderr",
          "output_type": "stream",
          "text": [
            "Epoch 1, step 116, loss=3.772327677956943: 100%|██████████| 58/58 [00:02<00:00, 23.50it/s]\n",
            "100%|██████████| 15/15 [00:04<00:00,  3.17it/s]\n"
          ]
        },
        {
          "name": "stdout",
          "output_type": "stream",
          "text": [
            "Epoch 1 val_result: {R@1: 0.00027177605652941976, nDCG@10: 0.000398418229275097, R@10: 0.0005435521130588395}\n",
            "New best model saved to models/gsasrec-retailrocket-epoch1-step116-val0.0004.pt\n"
          ]
        },
        {
          "name": "stderr",
          "output_type": "stream",
          "text": [
            "Epoch 2, step 174, loss=2.331536805492708: 100%|██████████| 58/58 [00:02<00:00, 23.77it/s]\n",
            "100%|██████████| 15/15 [00:04<00:00,  3.69it/s]\n"
          ]
        },
        {
          "name": "stdout",
          "output_type": "stream",
          "text": [
            "Epoch 2 val_result: {R@1: 0.0, nDCG@10: 0.0003453713100738463, R@10: 0.0006794401413235494}\n"
          ]
        },
        {
          "name": "stderr",
          "output_type": "stream",
          "text": [
            "Epoch 3, step 232, loss=1.5572906876432484: 100%|██████████| 58/58 [00:02<00:00, 21.91it/s]\n",
            "100%|██████████| 15/15 [00:04<00:00,  3.63it/s]\n"
          ]
        },
        {
          "name": "stdout",
          "output_type": "stream",
          "text": [
            "Epoch 3 val_result: {R@1: 0.0, nDCG@10: 0.00018516596104210245, R@10: 0.00040766408479412964}\n"
          ]
        },
        {
          "name": "stderr",
          "output_type": "stream",
          "text": [
            "Epoch 4, step 290, loss=1.0930293510700095: 100%|██████████| 58/58 [00:02<00:00, 23.65it/s]\n",
            "100%|██████████| 15/15 [00:04<00:00,  3.54it/s]\n"
          ]
        },
        {
          "name": "stdout",
          "output_type": "stream",
          "text": [
            "Epoch 4 val_result: {R@1: 0.0, nDCG@10: 0.0001965477144119019, R@10: 0.00040766408479412964}\n"
          ]
        },
        {
          "name": "stderr",
          "output_type": "stream",
          "text": [
            "Epoch 5, step 348, loss=0.7927645739467665: 100%|██████████| 58/58 [00:02<00:00, 22.64it/s]\n",
            "100%|██████████| 15/15 [00:03<00:00,  3.85it/s]\n"
          ]
        },
        {
          "name": "stdout",
          "output_type": "stream",
          "text": [
            "Epoch 5 val_result: {R@1: 0.0, nDCG@10: 0.0001536798143187196, R@10: 0.00027177605652941976}\n"
          ]
        },
        {
          "name": "stderr",
          "output_type": "stream",
          "text": [
            "Epoch 6, step 406, loss=0.5616273874132504: 100%|██████████| 58/58 [00:02<00:00, 23.70it/s]\n",
            "100%|██████████| 15/15 [00:04<00:00,  3.37it/s]\n"
          ]
        },
        {
          "name": "stdout",
          "output_type": "stream",
          "text": [
            "Epoch 6 val_result: {R@1: 0.0, nDCG@10: 9.127219240301006e-05, R@10: 0.00027177605652941976}\n"
          ]
        },
        {
          "name": "stderr",
          "output_type": "stream",
          "text": [
            "Epoch 7, step 464, loss=0.39175650169109477: 100%|██████████| 58/58 [00:02<00:00, 23.68it/s]\n",
            "100%|██████████| 15/15 [00:04<00:00,  3.67it/s]\n"
          ]
        },
        {
          "name": "stdout",
          "output_type": "stream",
          "text": [
            "Epoch 7 val_result: {R@1: 0.0, nDCG@10: 0.00010513733040753951, R@10: 0.00027177605652941976}\n"
          ]
        },
        {
          "name": "stderr",
          "output_type": "stream",
          "text": [
            "Epoch 8, step 522, loss=0.2674366445833696: 100%|██████████| 58/58 [00:02<00:00, 23.28it/s]\n",
            "100%|██████████| 15/15 [00:04<00:00,  3.17it/s]\n"
          ]
        },
        {
          "name": "stdout",
          "output_type": "stream",
          "text": [
            "Epoch 8 val_result: {R@1: 0.00013588802826470988, nDCG@10: 0.00018429232057453758, R@10: 0.00027177605652941976}\n"
          ]
        },
        {
          "name": "stderr",
          "output_type": "stream",
          "text": [
            "Epoch 9, step 580, loss=0.18837501961609412: 100%|██████████| 58/58 [00:02<00:00, 23.51it/s]\n",
            "100%|██████████| 15/15 [00:04<00:00,  3.68it/s]\n"
          ]
        },
        {
          "name": "stdout",
          "output_type": "stream",
          "text": [
            "Epoch 9 val_result: {R@1: 0.00013588802826470988, nDCG@10: 0.00018429232057453758, R@10: 0.00027177605652941976}\n"
          ]
        },
        {
          "name": "stderr",
          "output_type": "stream",
          "text": [
            "Epoch 10, step 638, loss=0.15074684178941303: 100%|██████████| 58/58 [00:02<00:00, 21.12it/s]\n",
            "100%|██████████| 15/15 [00:04<00:00,  3.68it/s]\n"
          ]
        },
        {
          "name": "stdout",
          "output_type": "stream",
          "text": [
            "Epoch 10 val_result: {R@1: 0.00013588802826470988, nDCG@10: 0.00017875592835789222, R@10: 0.00027177605652941976}\n"
          ]
        },
        {
          "name": "stderr",
          "output_type": "stream",
          "text": [
            "Epoch 11, step 696, loss=0.13166541974434906: 100%|██████████| 58/58 [00:02<00:00, 23.62it/s]\n",
            "100%|██████████| 15/15 [00:04<00:00,  3.49it/s]\n"
          ]
        },
        {
          "name": "stdout",
          "output_type": "stream",
          "text": [
            "Epoch 11 val_result: {R@1: 0.0, nDCG@10: 6.794401413235494e-05, R@10: 0.00013588802826470988}\n"
          ]
        },
        {
          "name": "stderr",
          "output_type": "stream",
          "text": [
            "Epoch 12, step 754, loss=0.11749369380328636: 100%|██████████| 58/58 [00:02<00:00, 22.24it/s]\n",
            "100%|██████████| 15/15 [00:04<00:00,  3.69it/s]\n"
          ]
        },
        {
          "name": "stdout",
          "output_type": "stream",
          "text": [
            "Epoch 12 val_result: {R@1: 0.0, nDCG@10: 8.573580018636466e-05, R@10: 0.00013588802826470988}\n"
          ]
        },
        {
          "name": "stderr",
          "output_type": "stream",
          "text": [
            "Epoch 13, step 812, loss=0.10550740052913797: 100%|██████████| 58/58 [00:02<00:00, 23.33it/s]\n",
            "100%|██████████| 15/15 [00:04<00:00,  3.25it/s]\n"
          ]
        },
        {
          "name": "stdout",
          "output_type": "stream",
          "text": [
            "Epoch 13 val_result: {R@1: 0.00013588802826470988, nDCG@10: 0.00013588802826470988, R@10: 0.00013588802826470988}\n"
          ]
        },
        {
          "name": "stderr",
          "output_type": "stream",
          "text": [
            "Epoch 14, step 870, loss=0.09683093832827162: 100%|██████████| 58/58 [00:02<00:00, 23.40it/s]\n",
            "100%|██████████| 15/15 [00:04<00:00,  3.64it/s]\n"
          ]
        },
        {
          "name": "stdout",
          "output_type": "stream",
          "text": [
            "Epoch 14 val_result: {R@1: 0.00013588802826470988, nDCG@10: 0.00013588802826470988, R@10: 0.00013588802826470988}\n"
          ]
        },
        {
          "name": "stderr",
          "output_type": "stream",
          "text": [
            "Epoch 15, step 928, loss=0.08959803242107918: 100%|██████████| 58/58 [00:02<00:00, 22.99it/s]\n",
            "100%|██████████| 15/15 [00:04<00:00,  3.20it/s]\n"
          ]
        },
        {
          "name": "stdout",
          "output_type": "stream",
          "text": [
            "Epoch 15 val_result: {R@1: 0.0, nDCG@10: 6.794401413235494e-05, R@10: 0.00013588802826470988}\n"
          ]
        },
        {
          "name": "stderr",
          "output_type": "stream",
          "text": [
            "Epoch 16, step 986, loss=0.08364731738340056: 100%|██████████| 58/58 [00:02<00:00, 23.25it/s]\n",
            "100%|██████████| 15/15 [00:04<00:00,  3.68it/s]\n"
          ]
        },
        {
          "name": "stdout",
          "output_type": "stream",
          "text": [
            "Epoch 16 val_result: {R@1: 0.0, nDCG@10: 0.0, R@10: 0.0}\n"
          ]
        },
        {
          "name": "stderr",
          "output_type": "stream",
          "text": [
            "Epoch 17, step 1044, loss=0.07813296270096438: 100%|██████████| 58/58 [00:02<00:00, 20.61it/s]\n",
            "100%|██████████| 15/15 [00:04<00:00,  3.62it/s]\n"
          ]
        },
        {
          "name": "stdout",
          "output_type": "stream",
          "text": [
            "Epoch 17 val_result: {R@1: 0.0, nDCG@10: 6.794401413235494e-05, R@10: 0.00013588802826470988}\n"
          ]
        },
        {
          "name": "stderr",
          "output_type": "stream",
          "text": [
            "Epoch 18, step 1102, loss=0.07268410942731882: 100%|██████████| 58/58 [00:02<00:00, 23.79it/s]\n",
            "100%|██████████| 15/15 [00:04<00:00,  3.49it/s]\n"
          ]
        },
        {
          "name": "stdout",
          "output_type": "stream",
          "text": [
            "Epoch 18 val_result: {R@1: 0.0, nDCG@10: 4.8404292309827716e-05, R@10: 0.00013588802826470988}\n"
          ]
        },
        {
          "name": "stderr",
          "output_type": "stream",
          "text": [
            "Epoch 19, step 1160, loss=0.06839241878739719: 100%|██████████| 58/58 [00:02<00:00, 22.36it/s]\n",
            "100%|██████████| 15/15 [00:04<00:00,  3.68it/s]\n"
          ]
        },
        {
          "name": "stdout",
          "output_type": "stream",
          "text": [
            "Epoch 19 val_result: {R@1: 0.0, nDCG@10: 8.573580018636466e-05, R@10: 0.00013588802826470988}\n"
          ]
        },
        {
          "name": "stderr",
          "output_type": "stream",
          "text": [
            "Epoch 20, step 1218, loss=0.06428374611881174: 100%|██████████| 58/58 [00:02<00:00, 23.75it/s]\n",
            "100%|██████████| 15/15 [00:04<00:00,  3.27it/s]\n"
          ]
        },
        {
          "name": "stdout",
          "output_type": "stream",
          "text": [
            "Epoch 20 val_result: {R@1: 0.0, nDCG@10: 4.090637255931257e-05, R@10: 0.00013588802826470988}\n"
          ]
        },
        {
          "name": "stderr",
          "output_type": "stream",
          "text": [
            "Epoch 21, step 1276, loss=0.060791800108075514: 100%|██████████| 58/58 [00:02<00:00, 23.64it/s]\n",
            "100%|██████████| 15/15 [00:04<00:00,  3.66it/s]\n"
          ]
        },
        {
          "name": "stdout",
          "output_type": "stream",
          "text": [
            "Epoch 21 val_result: {R@1: 0.0, nDCG@10: 8.573580018636466e-05, R@10: 0.00013588802826470988}\n"
          ]
        },
        {
          "name": "stderr",
          "output_type": "stream",
          "text": [
            "Epoch 22, step 1334, loss=0.0570308443667113: 100%|██████████| 58/58 [00:02<00:00, 23.82it/s]\n",
            "100%|██████████| 15/15 [00:04<00:00,  3.19it/s]\n"
          ]
        },
        {
          "name": "stdout",
          "output_type": "stream",
          "text": [
            "Epoch 22 val_result: {R@1: 0.00013588802826470988, nDCG@10: 0.00013588802826470988, R@10: 0.00013588802826470988}\n"
          ]
        },
        {
          "name": "stderr",
          "output_type": "stream",
          "text": [
            "Epoch 23, step 1392, loss=0.05412092787780981: 100%|██████████| 58/58 [00:02<00:00, 23.36it/s]\n",
            "100%|██████████| 15/15 [00:03<00:00,  3.87it/s]\n"
          ]
        },
        {
          "name": "stdout",
          "output_type": "stream",
          "text": [
            "Epoch 23 val_result: {R@1: 0.00013588802826470988, nDCG@10: 0.00017516847755372848, R@10: 0.00027177605652941976}\n"
          ]
        },
        {
          "name": "stderr",
          "output_type": "stream",
          "text": [
            "Epoch 24, step 1450, loss=0.05125031183505881: 100%|██████████| 58/58 [00:02<00:00, 21.29it/s]\n",
            "100%|██████████| 15/15 [00:03<00:00,  3.85it/s]\n"
          ]
        },
        {
          "name": "stdout",
          "output_type": "stream",
          "text": [
            "Epoch 24 val_result: {R@1: 0.0, nDCG@10: 8.573580018636466e-05, R@10: 0.00013588802826470988}\n"
          ]
        },
        {
          "name": "stderr",
          "output_type": "stream",
          "text": [
            "Epoch 25, step 1508, loss=0.04869762197413558: 100%|██████████| 58/58 [00:02<00:00, 23.81it/s]\n",
            "100%|██████████| 15/15 [00:04<00:00,  3.70it/s]\n"
          ]
        },
        {
          "name": "stdout",
          "output_type": "stream",
          "text": [
            "Epoch 25 val_result: {R@1: 0.0, nDCG@10: 6.794401413235494e-05, R@10: 0.00013588802826470988}\n"
          ]
        },
        {
          "name": "stderr",
          "output_type": "stream",
          "text": [
            "Epoch 26, step 1566, loss=0.04598301671930657: 100%|██████████| 58/58 [00:02<00:00, 22.11it/s]\n",
            "100%|██████████| 15/15 [00:03<00:00,  3.86it/s]\n"
          ]
        },
        {
          "name": "stdout",
          "output_type": "stream",
          "text": [
            "Epoch 26 val_result: {R@1: 0.00013588802826470988, nDCG@10: 0.00013588802826470988, R@10: 0.00013588802826470988}\n"
          ]
        },
        {
          "name": "stderr",
          "output_type": "stream",
          "text": [
            "Epoch 27, step 1624, loss=0.04367928867563238: 100%|██████████| 58/58 [00:02<00:00, 23.41it/s]\n",
            "100%|██████████| 15/15 [00:04<00:00,  3.38it/s]\n"
          ]
        },
        {
          "name": "stdout",
          "output_type": "stream",
          "text": [
            "Epoch 27 val_result: {R@1: 0.00013588802826470988, nDCG@10: 0.00013588802826470988, R@10: 0.00013588802826470988}\n"
          ]
        },
        {
          "name": "stderr",
          "output_type": "stream",
          "text": [
            "Epoch 28, step 1682, loss=0.042007581515771455: 100%|██████████| 58/58 [00:02<00:00, 23.67it/s]\n",
            "100%|██████████| 15/15 [00:03<00:00,  3.86it/s]\n"
          ]
        },
        {
          "name": "stdout",
          "output_type": "stream",
          "text": [
            "Epoch 28 val_result: {R@1: 0.00013588802826470988, nDCG@10: 0.00013588802826470988, R@10: 0.00013588802826470988}\n"
          ]
        },
        {
          "name": "stderr",
          "output_type": "stream",
          "text": [
            "Epoch 29, step 1740, loss=0.039693370427208385: 100%|██████████| 58/58 [00:02<00:00, 23.81it/s]\n",
            "100%|██████████| 15/15 [00:04<00:00,  3.35it/s]\n"
          ]
        },
        {
          "name": "stdout",
          "output_type": "stream",
          "text": [
            "Epoch 29 val_result: {R@1: 0.0, nDCG@10: 6.794401413235494e-05, R@10: 0.00013588802826470988}\n"
          ]
        },
        {
          "name": "stderr",
          "output_type": "stream",
          "text": [
            "Epoch 30, step 1798, loss=0.038014059801388105: 100%|██████████| 58/58 [00:02<00:00, 23.76it/s]\n",
            "100%|██████████| 15/15 [00:03<00:00,  3.92it/s]\n"
          ]
        },
        {
          "name": "stdout",
          "output_type": "stream",
          "text": [
            "Epoch 30 val_result: {R@1: 0.0, nDCG@10: 8.573580018636466e-05, R@10: 0.00013588802826470988}\n"
          ]
        },
        {
          "name": "stderr",
          "output_type": "stream",
          "text": [
            "Epoch 31, step 1856, loss=0.035713306917198775: 100%|██████████| 58/58 [00:02<00:00, 21.86it/s]\n",
            "100%|██████████| 15/15 [00:04<00:00,  3.75it/s]\n"
          ]
        },
        {
          "name": "stdout",
          "output_type": "stream",
          "text": [
            "Epoch 31 val_result: {R@1: 0.0, nDCG@10: 6.794401413235494e-05, R@10: 0.00013588802826470988}\n"
          ]
        },
        {
          "name": "stderr",
          "output_type": "stream",
          "text": [
            "Epoch 32, step 1914, loss=0.03464552713412102: 100%|██████████| 58/58 [00:02<00:00, 23.79it/s]\n",
            "100%|██████████| 15/15 [00:03<00:00,  3.82it/s]\n"
          ]
        },
        {
          "name": "stdout",
          "output_type": "stream",
          "text": [
            "Epoch 32 val_result: {R@1: 0.0, nDCG@10: 5.85237882964252e-05, R@10: 0.00013588802826470988}\n"
          ]
        },
        {
          "name": "stderr",
          "output_type": "stream",
          "text": [
            "Epoch 33, step 1972, loss=0.03277251438727002: 100%|██████████| 58/58 [00:02<00:00, 21.66it/s]\n",
            "100%|██████████| 15/15 [00:03<00:00,  3.86it/s]\n"
          ]
        },
        {
          "name": "stdout",
          "output_type": "stream",
          "text": [
            "Epoch 33 val_result: {R@1: 0.0, nDCG@10: 5.85237882964252e-05, R@10: 0.00013588802826470988}\n"
          ]
        },
        {
          "name": "stderr",
          "output_type": "stream",
          "text": [
            "Epoch 34, step 2030, loss=0.03142373438539176: 100%|██████████| 58/58 [00:02<00:00, 23.42it/s]\n",
            "100%|██████████| 15/15 [00:04<00:00,  3.38it/s]\n"
          ]
        },
        {
          "name": "stdout",
          "output_type": "stream",
          "text": [
            "Epoch 34 val_result: {R@1: 0.0, nDCG@10: 8.573580018636466e-05, R@10: 0.00013588802826470988}\n"
          ]
        },
        {
          "name": "stderr",
          "output_type": "stream",
          "text": [
            "Epoch 35, step 2088, loss=0.029931875309724916: 100%|██████████| 58/58 [00:02<00:00, 23.40it/s]\n",
            "100%|██████████| 15/15 [00:03<00:00,  3.90it/s]\n"
          ]
        },
        {
          "name": "stdout",
          "output_type": "stream",
          "text": [
            "Epoch 35 val_result: {R@1: 0.0, nDCG@10: 5.2568665203769755e-05, R@10: 0.00013588802826470988}\n"
          ]
        },
        {
          "name": "stderr",
          "output_type": "stream",
          "text": [
            "Epoch 36, step 2146, loss=0.028638397797400555: 100%|██████████| 58/58 [00:02<00:00, 23.66it/s]\n",
            "100%|██████████| 15/15 [00:04<00:00,  3.31it/s]\n"
          ]
        },
        {
          "name": "stdout",
          "output_type": "stream",
          "text": [
            "Epoch 36 val_result: {R@1: 0.0, nDCG@10: 5.85237882964252e-05, R@10: 0.00013588802826470988}\n"
          ]
        },
        {
          "name": "stderr",
          "output_type": "stream",
          "text": [
            "Epoch 37, step 2204, loss=0.0274248247570654: 100%|██████████| 58/58 [00:02<00:00, 23.65it/s]\n",
            "100%|██████████| 15/15 [00:03<00:00,  3.83it/s]\n"
          ]
        },
        {
          "name": "stdout",
          "output_type": "stream",
          "text": [
            "Epoch 37 val_result: {R@1: 0.0, nDCG@10: 6.794401413235494e-05, R@10: 0.00013588802826470988}\n"
          ]
        },
        {
          "name": "stderr",
          "output_type": "stream",
          "text": [
            "Epoch 38, step 2262, loss=0.026164543776254965: 100%|██████████| 58/58 [00:02<00:00, 21.76it/s]\n",
            "100%|██████████| 15/15 [00:04<00:00,  3.68it/s]\n"
          ]
        },
        {
          "name": "stdout",
          "output_type": "stream",
          "text": [
            "Epoch 38 val_result: {R@1: 0.0, nDCG@10: 6.794401413235494e-05, R@10: 0.00013588802826470988}\n"
          ]
        },
        {
          "name": "stderr",
          "output_type": "stream",
          "text": [
            "Epoch 39, step 2320, loss=0.024708098018991535: 100%|██████████| 58/58 [00:02<00:00, 23.52it/s]\n",
            "100%|██████████| 15/15 [00:03<00:00,  3.82it/s]\n"
          ]
        },
        {
          "name": "stdout",
          "output_type": "stream",
          "text": [
            "Epoch 39 val_result: {R@1: 0.0, nDCG@10: 6.794401413235494e-05, R@10: 0.00013588802826470988}\n"
          ]
        },
        {
          "name": "stderr",
          "output_type": "stream",
          "text": [
            "Epoch 40, step 2378, loss=0.023755093022892713: 100%|██████████| 58/58 [00:02<00:00, 21.60it/s]\n",
            "100%|██████████| 15/15 [00:03<00:00,  3.88it/s]\n"
          ]
        },
        {
          "name": "stdout",
          "output_type": "stream",
          "text": [
            "Epoch 40 val_result: {R@1: 0.0, nDCG@10: 5.2568665203769755e-05, R@10: 0.00013588802826470988}\n"
          ]
        },
        {
          "name": "stderr",
          "output_type": "stream",
          "text": [
            "Epoch 41, step 2436, loss=0.022810197791638242: 100%|██████████| 58/58 [00:02<00:00, 23.50it/s]\n",
            "100%|██████████| 15/15 [00:04<00:00,  3.39it/s]\n"
          ]
        },
        {
          "name": "stdout",
          "output_type": "stream",
          "text": [
            "Epoch 41 val_result: {R@1: 0.0, nDCG@10: 5.2568665203769755e-05, R@10: 0.00013588802826470988}\n"
          ]
        },
        {
          "name": "stderr",
          "output_type": "stream",
          "text": [
            "Epoch 42, step 2494, loss=0.021914258945819942: 100%|██████████| 58/58 [00:02<00:00, 23.66it/s]\n",
            "100%|██████████| 15/15 [00:03<00:00,  3.91it/s]\n"
          ]
        },
        {
          "name": "stdout",
          "output_type": "stream",
          "text": [
            "Epoch 42 val_result: {R@1: 0.0, nDCG@10: 5.85237882964252e-05, R@10: 0.00013588802826470988}\n"
          ]
        },
        {
          "name": "stderr",
          "output_type": "stream",
          "text": [
            "Epoch 43, step 2552, loss=0.020646688636380677: 100%|██████████| 58/58 [00:02<00:00, 23.49it/s]\n",
            "100%|██████████| 15/15 [00:04<00:00,  3.34it/s]\n"
          ]
        },
        {
          "name": "stdout",
          "output_type": "stream",
          "text": [
            "Epoch 43 val_result: {R@1: 0.0, nDCG@10: 3.92804492890186e-05, R@10: 0.00013588802826470988}\n"
          ]
        },
        {
          "name": "stderr",
          "output_type": "stream",
          "text": [
            "Epoch 44, step 2610, loss=0.019839467673466123: 100%|██████████| 58/58 [00:02<00:00, 23.61it/s]\n",
            "100%|██████████| 15/15 [00:03<00:00,  3.91it/s]\n"
          ]
        },
        {
          "name": "stdout",
          "output_type": "stream",
          "text": [
            "Epoch 44 val_result: {R@1: 0.0, nDCG@10: 0.0, R@10: 0.0}\n"
          ]
        },
        {
          "name": "stderr",
          "output_type": "stream",
          "text": [
            "Epoch 45, step 2668, loss=0.018947092668227347: 100%|██████████| 58/58 [00:02<00:00, 22.43it/s]\n",
            "100%|██████████| 15/15 [00:04<00:00,  3.60it/s]\n"
          ]
        },
        {
          "name": "stdout",
          "output_type": "stream",
          "text": [
            "Epoch 45 val_result: {R@1: 0.0, nDCG@10: 4.286790009318233e-05, R@10: 0.00013588802826470988}\n"
          ]
        },
        {
          "name": "stderr",
          "output_type": "stream",
          "text": [
            "Epoch 46, step 2726, loss=0.017980364452629342: 100%|██████████| 58/58 [00:02<00:00, 23.68it/s]\n",
            "100%|██████████| 15/15 [00:03<00:00,  3.91it/s]\n"
          ]
        },
        {
          "name": "stdout",
          "output_type": "stream",
          "text": [
            "Epoch 46 val_result: {R@1: 0.0, nDCG@10: 0.0, R@10: 0.0}\n"
          ]
        },
        {
          "name": "stderr",
          "output_type": "stream",
          "text": [
            "Epoch 47, step 2784, loss=0.01712681070483964: 100%|██████████| 58/58 [00:02<00:00, 21.12it/s]\n",
            "100%|██████████| 15/15 [00:03<00:00,  3.83it/s]\n"
          ]
        },
        {
          "name": "stdout",
          "output_type": "stream",
          "text": [
            "Epoch 47 val_result: {R@1: 0.0, nDCG@10: 4.529600942156996e-05, R@10: 0.00013588802826470988}\n"
          ]
        },
        {
          "name": "stderr",
          "output_type": "stream",
          "text": [
            "Epoch 48, step 2842, loss=0.016318114331538704: 100%|██████████| 58/58 [00:02<00:00, 23.09it/s]\n",
            "100%|██████████| 15/15 [00:04<00:00,  3.37it/s]\n"
          ]
        },
        {
          "name": "stdout",
          "output_type": "stream",
          "text": [
            "Epoch 48 val_result: {R@1: 0.0, nDCG@10: 0.0, R@10: 0.0}\n"
          ]
        },
        {
          "name": "stderr",
          "output_type": "stream",
          "text": [
            "Epoch 49, step 2900, loss=0.01542133945843269: 100%|██████████| 58/58 [00:02<00:00, 23.07it/s]\n",
            "100%|██████████| 15/15 [00:03<00:00,  3.85it/s]\n"
          ]
        },
        {
          "name": "stdout",
          "output_type": "stream",
          "text": [
            "Epoch 49 val_result: {R@1: 0.0, nDCG@10: 4.8404292309827716e-05, R@10: 0.00013588802826470988}\n"
          ]
        },
        {
          "name": "stderr",
          "output_type": "stream",
          "text": [
            "Epoch 50, step 2958, loss=0.014703555575410122: 100%|██████████| 58/58 [00:02<00:00, 23.50it/s]\n",
            "100%|██████████| 15/15 [00:04<00:00,  3.32it/s]\n"
          ]
        },
        {
          "name": "stdout",
          "output_type": "stream",
          "text": [
            "Epoch 50 val_result: {R@1: 0.0, nDCG@10: 3.92804492890186e-05, R@10: 0.00013588802826470988}\n"
          ]
        },
        {
          "name": "stderr",
          "output_type": "stream",
          "text": [
            "Epoch 51, step 3016, loss=0.01416512950266704: 100%|██████████| 58/58 [00:02<00:00, 23.69it/s]\n",
            "100%|██████████| 15/15 [00:03<00:00,  3.81it/s]\n"
          ]
        },
        {
          "name": "stdout",
          "output_type": "stream",
          "text": [
            "Epoch 51 val_result: {R@1: 0.0, nDCG@10: 0.0, R@10: 0.0}\n"
          ]
        },
        {
          "name": "stderr",
          "output_type": "stream",
          "text": [
            "Epoch 52, step 3074, loss=0.013421933819275051: 100%|██████████| 58/58 [00:02<00:00, 21.94it/s]\n",
            "100%|██████████| 15/15 [00:04<00:00,  3.60it/s]\n"
          ]
        },
        {
          "name": "stdout",
          "output_type": "stream",
          "text": [
            "Epoch 52 val_result: {R@1: 0.0, nDCG@10: 0.0, R@10: 0.0}\n"
          ]
        },
        {
          "name": "stderr",
          "output_type": "stream",
          "text": [
            "Epoch 53, step 3132, loss=0.012825188451799852: 100%|██████████| 58/58 [00:02<00:00, 23.60it/s]\n",
            "100%|██████████| 15/15 [00:03<00:00,  3.77it/s]\n"
          ]
        },
        {
          "name": "stdout",
          "output_type": "stream",
          "text": [
            "Epoch 53 val_result: {R@1: 0.0, nDCG@10: 0.0, R@10: 0.0}\n"
          ]
        },
        {
          "name": "stderr",
          "output_type": "stream",
          "text": [
            "Epoch 54, step 3190, loss=0.012244031795513668: 100%|██████████| 58/58 [00:02<00:00, 21.87it/s]\n",
            "100%|██████████| 15/15 [00:03<00:00,  3.88it/s]\n"
          ]
        },
        {
          "name": "stdout",
          "output_type": "stream",
          "text": [
            "Epoch 54 val_result: {R@1: 0.0, nDCG@10: 0.0, R@10: 0.0}\n"
          ]
        },
        {
          "name": "stderr",
          "output_type": "stream",
          "text": [
            "Epoch 55, step 3248, loss=0.011769278736537313: 100%|██████████| 58/58 [00:02<00:00, 23.73it/s]\n",
            "100%|██████████| 15/15 [00:04<00:00,  3.32it/s]\n"
          ]
        },
        {
          "name": "stdout",
          "output_type": "stream",
          "text": [
            "Epoch 55 val_result: {R@1: 0.0, nDCG@10: 0.0, R@10: 0.0}\n"
          ]
        },
        {
          "name": "stderr",
          "output_type": "stream",
          "text": [
            "Epoch 56, step 3306, loss=0.011200184398034956: 100%|██████████| 58/58 [00:02<00:00, 23.47it/s]\n",
            "100%|██████████| 15/15 [00:03<00:00,  3.84it/s]\n"
          ]
        },
        {
          "name": "stdout",
          "output_type": "stream",
          "text": [
            "Epoch 56 val_result: {R@1: 0.0, nDCG@10: 0.0, R@10: 0.0}\n"
          ]
        },
        {
          "name": "stderr",
          "output_type": "stream",
          "text": [
            "Epoch 57, step 3364, loss=0.010632868878339615: 100%|██████████| 58/58 [00:02<00:00, 23.40it/s]\n",
            "100%|██████████| 15/15 [00:04<00:00,  3.29it/s]\n"
          ]
        },
        {
          "name": "stdout",
          "output_type": "stream",
          "text": [
            "Epoch 57 val_result: {R@1: 0.0, nDCG@10: 0.0, R@10: 0.0}\n"
          ]
        },
        {
          "name": "stderr",
          "output_type": "stream",
          "text": [
            "Epoch 58, step 3422, loss=0.010219556800389693: 100%|██████████| 58/58 [00:02<00:00, 23.38it/s]\n",
            "100%|██████████| 15/15 [00:03<00:00,  3.88it/s]\n"
          ]
        },
        {
          "name": "stdout",
          "output_type": "stream",
          "text": [
            "Epoch 58 val_result: {R@1: 0.0, nDCG@10: 0.0, R@10: 0.0}\n"
          ]
        },
        {
          "name": "stderr",
          "output_type": "stream",
          "text": [
            "Epoch 59, step 3480, loss=0.00972269683562476: 100%|██████████| 58/58 [00:02<00:00, 22.12it/s]\n",
            "100%|██████████| 15/15 [00:04<00:00,  3.62it/s]\n"
          ]
        },
        {
          "name": "stdout",
          "output_type": "stream",
          "text": [
            "Epoch 59 val_result: {R@1: 0.0, nDCG@10: 0.0, R@10: 0.0}\n"
          ]
        },
        {
          "name": "stderr",
          "output_type": "stream",
          "text": [
            "Epoch 60, step 3538, loss=0.00931659436886293: 100%|██████████| 58/58 [00:02<00:00, 23.45it/s]\n",
            "100%|██████████| 15/15 [00:03<00:00,  3.79it/s]\n"
          ]
        },
        {
          "name": "stdout",
          "output_type": "stream",
          "text": [
            "Epoch 60 val_result: {R@1: 0.0, nDCG@10: 0.0, R@10: 0.0}\n"
          ]
        },
        {
          "name": "stderr",
          "output_type": "stream",
          "text": [
            "Epoch 61, step 3596, loss=0.008973571429395834: 100%|██████████| 58/58 [00:02<00:00, 21.95it/s]\n",
            "100%|██████████| 15/15 [00:03<00:00,  3.84it/s]\n"
          ]
        },
        {
          "name": "stdout",
          "output_type": "stream",
          "text": [
            "Epoch 61 val_result: {R@1: 0.0, nDCG@10: 0.0, R@10: 0.0}\n"
          ]
        },
        {
          "name": "stderr",
          "output_type": "stream",
          "text": [
            "Epoch 62, step 3654, loss=0.008586119752342608: 100%|██████████| 58/58 [00:02<00:00, 23.44it/s]\n",
            "100%|██████████| 15/15 [00:04<00:00,  3.39it/s]\n"
          ]
        },
        {
          "name": "stdout",
          "output_type": "stream",
          "text": [
            "Epoch 62 val_result: {R@1: 0.0, nDCG@10: 0.0, R@10: 0.0}\n"
          ]
        },
        {
          "name": "stderr",
          "output_type": "stream",
          "text": [
            "Epoch 63, step 3712, loss=0.00831909350055302: 100%|██████████| 58/58 [00:02<00:00, 23.44it/s]\n",
            "100%|██████████| 15/15 [00:03<00:00,  3.89it/s]\n"
          ]
        },
        {
          "name": "stdout",
          "output_type": "stream",
          "text": [
            "Epoch 63 val_result: {R@1: 0.0, nDCG@10: 0.0, R@10: 0.0}\n"
          ]
        },
        {
          "name": "stderr",
          "output_type": "stream",
          "text": [
            "Epoch 64, step 3770, loss=0.007927929485508238: 100%|██████████| 58/58 [00:02<00:00, 23.57it/s]\n",
            "100%|██████████| 15/15 [00:04<00:00,  3.30it/s]\n"
          ]
        },
        {
          "name": "stdout",
          "output_type": "stream",
          "text": [
            "Epoch 64 val_result: {R@1: 0.0, nDCG@10: 0.0, R@10: 0.0}\n"
          ]
        },
        {
          "name": "stderr",
          "output_type": "stream",
          "text": [
            "Epoch 65, step 3828, loss=0.007499473603479292: 100%|██████████| 58/58 [00:02<00:00, 23.58it/s]\n",
            "100%|██████████| 15/15 [00:03<00:00,  3.84it/s]\n"
          ]
        },
        {
          "name": "stdout",
          "output_type": "stream",
          "text": [
            "Epoch 65 val_result: {R@1: 0.0, nDCG@10: 3.92804492890186e-05, R@10: 0.00013588802826470988}\n"
          ]
        },
        {
          "name": "stderr",
          "output_type": "stream",
          "text": [
            "Epoch 66, step 3886, loss=0.0073593406718966276: 100%|██████████| 58/58 [00:02<00:00, 21.90it/s]\n",
            "100%|██████████| 15/15 [00:04<00:00,  3.66it/s]\n"
          ]
        },
        {
          "name": "stdout",
          "output_type": "stream",
          "text": [
            "Epoch 66 val_result: {R@1: 0.0, nDCG@10: 0.0, R@10: 0.0}\n"
          ]
        },
        {
          "name": "stderr",
          "output_type": "stream",
          "text": [
            "Epoch 67, step 3944, loss=0.006999118060901247: 100%|██████████| 58/58 [00:02<00:00, 23.65it/s]\n",
            "100%|██████████| 15/15 [00:03<00:00,  3.91it/s]\n"
          ]
        },
        {
          "name": "stdout",
          "output_type": "stream",
          "text": [
            "Epoch 67 val_result: {R@1: 0.0, nDCG@10: 4.090637255931257e-05, R@10: 0.00013588802826470988}\n"
          ]
        },
        {
          "name": "stderr",
          "output_type": "stream",
          "text": [
            "Epoch 68, step 4002, loss=0.006797301998619792: 100%|██████████| 58/58 [00:02<00:00, 21.44it/s]\n",
            "100%|██████████| 15/15 [00:03<00:00,  3.86it/s]\n"
          ]
        },
        {
          "name": "stdout",
          "output_type": "stream",
          "text": [
            "Epoch 68 val_result: {R@1: 0.0, nDCG@10: 3.92804492890186e-05, R@10: 0.00013588802826470988}\n"
          ]
        },
        {
          "name": "stderr",
          "output_type": "stream",
          "text": [
            "Epoch 69, step 4060, loss=0.006570071627941038: 100%|██████████| 58/58 [00:02<00:00, 23.60it/s]\n",
            "100%|██████████| 15/15 [00:04<00:00,  3.53it/s]\n"
          ]
        },
        {
          "name": "stdout",
          "output_type": "stream",
          "text": [
            "Epoch 69 val_result: {R@1: 0.0, nDCG@10: 3.92804492890186e-05, R@10: 0.00013588802826470988}\n"
          ]
        },
        {
          "name": "stderr",
          "output_type": "stream",
          "text": [
            "Epoch 70, step 4118, loss=0.006294848944678823: 100%|██████████| 58/58 [00:02<00:00, 23.43it/s]\n",
            "100%|██████████| 15/15 [00:03<00:00,  3.89it/s]\n"
          ]
        },
        {
          "name": "stdout",
          "output_type": "stream",
          "text": [
            "Epoch 70 val_result: {R@1: 0.0, nDCG@10: 4.090637255931257e-05, R@10: 0.00013588802826470988}\n"
          ]
        },
        {
          "name": "stderr",
          "output_type": "stream",
          "text": [
            "Epoch 71, step 4176, loss=0.00597243427059888: 100%|██████████| 58/58 [00:02<00:00, 23.51it/s]\n",
            "100%|██████████| 15/15 [00:04<00:00,  3.34it/s]\n"
          ]
        },
        {
          "name": "stdout",
          "output_type": "stream",
          "text": [
            "Epoch 71 val_result: {R@1: 0.0, nDCG@10: 3.92804492890186e-05, R@10: 0.00013588802826470988}\n"
          ]
        },
        {
          "name": "stderr",
          "output_type": "stream",
          "text": [
            "Epoch 72, step 4234, loss=0.005832210316881009: 100%|██████████| 58/58 [00:02<00:00, 23.38it/s]\n",
            "100%|██████████| 15/15 [00:03<00:00,  3.81it/s]\n"
          ]
        },
        {
          "name": "stdout",
          "output_type": "stream",
          "text": [
            "Epoch 72 val_result: {R@1: 0.0, nDCG@10: 0.0, R@10: 0.0}\n"
          ]
        },
        {
          "name": "stderr",
          "output_type": "stream",
          "text": [
            "Epoch 73, step 4292, loss=0.005570606924836478: 100%|██████████| 58/58 [00:02<00:00, 21.21it/s]\n",
            "100%|██████████| 15/15 [00:04<00:00,  3.56it/s]\n"
          ]
        },
        {
          "name": "stdout",
          "output_type": "stream",
          "text": [
            "Epoch 73 val_result: {R@1: 0.0, nDCG@10: 0.0, R@10: 0.0}\n"
          ]
        },
        {
          "name": "stderr",
          "output_type": "stream",
          "text": [
            "Epoch 74, step 4350, loss=0.0053507581592976364: 100%|██████████| 58/58 [00:02<00:00, 23.18it/s]\n",
            "100%|██████████| 15/15 [00:03<00:00,  3.85it/s]\n"
          ]
        },
        {
          "name": "stdout",
          "output_type": "stream",
          "text": [
            "Epoch 74 val_result: {R@1: 0.0, nDCG@10: 0.0, R@10: 0.0}\n"
          ]
        },
        {
          "name": "stderr",
          "output_type": "stream",
          "text": [
            "Epoch 75, step 4408, loss=0.00519432849546526: 100%|██████████| 58/58 [00:02<00:00, 21.65it/s]\n",
            "100%|██████████| 15/15 [00:03<00:00,  3.89it/s]\n"
          ]
        },
        {
          "name": "stdout",
          "output_type": "stream",
          "text": [
            "Epoch 75 val_result: {R@1: 0.0, nDCG@10: 0.0, R@10: 0.0}\n"
          ]
        },
        {
          "name": "stderr",
          "output_type": "stream",
          "text": [
            "Epoch 76, step 4466, loss=0.0049890005102725616: 100%|██████████| 58/58 [00:02<00:00, 23.60it/s]\n",
            "100%|██████████| 15/15 [00:04<00:00,  3.40it/s]\n"
          ]
        },
        {
          "name": "stdout",
          "output_type": "stream",
          "text": [
            "Epoch 76 val_result: {R@1: 0.0, nDCG@10: 0.0, R@10: 0.0}\n"
          ]
        },
        {
          "name": "stderr",
          "output_type": "stream",
          "text": [
            "Epoch 77, step 4524, loss=0.004731905100674465: 100%|██████████| 58/58 [00:02<00:00, 23.33it/s]\n",
            "100%|██████████| 15/15 [00:03<00:00,  3.83it/s]\n"
          ]
        },
        {
          "name": "stdout",
          "output_type": "stream",
          "text": [
            "Epoch 77 val_result: {R@1: 0.0, nDCG@10: 4.286790009318233e-05, R@10: 0.00013588802826470988}\n"
          ]
        },
        {
          "name": "stderr",
          "output_type": "stream",
          "text": [
            "Epoch 78, step 4582, loss=0.004590278406009982: 100%|██████████| 58/58 [00:02<00:00, 23.76it/s]\n",
            "100%|██████████| 15/15 [00:04<00:00,  3.33it/s]\n"
          ]
        },
        {
          "name": "stdout",
          "output_type": "stream",
          "text": [
            "Epoch 78 val_result: {R@1: 0.0, nDCG@10: 4.090637255931257e-05, R@10: 0.00013588802826470988}\n"
          ]
        },
        {
          "name": "stderr",
          "output_type": "stream",
          "text": [
            "Epoch 79, step 4640, loss=0.0045637688888558025: 100%|██████████| 58/58 [00:02<00:00, 23.10it/s]\n",
            "100%|██████████| 15/15 [00:03<00:00,  3.85it/s]\n"
          ]
        },
        {
          "name": "stdout",
          "output_type": "stream",
          "text": [
            "Epoch 79 val_result: {R@1: 0.0, nDCG@10: 4.529600942156996e-05, R@10: 0.00013588802826470988}\n"
          ]
        },
        {
          "name": "stderr",
          "output_type": "stream",
          "text": [
            "Epoch 80, step 4698, loss=0.004292121430618705: 100%|██████████| 58/58 [00:02<00:00, 21.83it/s]\n",
            "100%|██████████| 15/15 [00:04<00:00,  3.57it/s]\n"
          ]
        },
        {
          "name": "stdout",
          "output_type": "stream",
          "text": [
            "Epoch 80 val_result: {R@1: 0.0, nDCG@10: 4.8404292309827716e-05, R@10: 0.00013588802826470988}\n"
          ]
        },
        {
          "name": "stderr",
          "output_type": "stream",
          "text": [
            "Epoch 81, step 4756, loss=0.00409781017330537: 100%|██████████| 58/58 [00:02<00:00, 22.91it/s]\n",
            "100%|██████████| 15/15 [00:04<00:00,  3.75it/s]\n"
          ]
        },
        {
          "name": "stdout",
          "output_type": "stream",
          "text": [
            "Epoch 81 val_result: {R@1: 0.0, nDCG@10: 4.8404292309827716e-05, R@10: 0.00013588802826470988}\n"
          ]
        },
        {
          "name": "stderr",
          "output_type": "stream",
          "text": [
            "Epoch 82, step 4814, loss=0.003969872287560856: 100%|██████████| 58/58 [00:02<00:00, 21.77it/s]\n",
            "100%|██████████| 15/15 [00:03<00:00,  3.89it/s]\n"
          ]
        },
        {
          "name": "stdout",
          "output_type": "stream",
          "text": [
            "Epoch 82 val_result: {R@1: 0.0, nDCG@10: 5.85237882964252e-05, R@10: 0.00013588802826470988}\n"
          ]
        },
        {
          "name": "stderr",
          "output_type": "stream",
          "text": [
            "Epoch 83, step 4872, loss=0.003843631109066785: 100%|██████████| 58/58 [00:02<00:00, 23.45it/s]\n",
            "100%|██████████| 15/15 [00:04<00:00,  3.38it/s]\n"
          ]
        },
        {
          "name": "stdout",
          "output_type": "stream",
          "text": [
            "Epoch 83 val_result: {R@1: 0.0, nDCG@10: 5.2568665203769755e-05, R@10: 0.00013588802826470988}\n"
          ]
        },
        {
          "name": "stderr",
          "output_type": "stream",
          "text": [
            "Epoch 84, step 4930, loss=0.00372899041093629: 100%|██████████| 58/58 [00:02<00:00, 23.59it/s]\n",
            "100%|██████████| 15/15 [00:03<00:00,  3.84it/s]\n"
          ]
        },
        {
          "name": "stdout",
          "output_type": "stream",
          "text": [
            "Epoch 84 val_result: {R@1: 0.0, nDCG@10: 4.8404292309827716e-05, R@10: 0.00013588802826470988}\n"
          ]
        },
        {
          "name": "stderr",
          "output_type": "stream",
          "text": [
            "Epoch 85, step 4988, loss=0.0035492803725177225: 100%|██████████| 58/58 [00:02<00:00, 23.44it/s]\n",
            "100%|██████████| 15/15 [00:04<00:00,  3.30it/s]\n"
          ]
        },
        {
          "name": "stdout",
          "output_type": "stream",
          "text": [
            "Epoch 85 val_result: {R@1: 0.0, nDCG@10: 5.2568665203769755e-05, R@10: 0.00013588802826470988}\n"
          ]
        },
        {
          "name": "stderr",
          "output_type": "stream",
          "text": [
            "Epoch 86, step 5046, loss=0.0033848855114389496: 100%|██████████| 58/58 [00:02<00:00, 23.57it/s]\n",
            "100%|██████████| 15/15 [00:03<00:00,  3.89it/s]\n"
          ]
        },
        {
          "name": "stdout",
          "output_type": "stream",
          "text": [
            "Epoch 86 val_result: {R@1: 0.0, nDCG@10: 5.2568665203769755e-05, R@10: 0.00013588802826470988}\n"
          ]
        },
        {
          "name": "stderr",
          "output_type": "stream",
          "text": [
            "Epoch 87, step 5104, loss=0.003340962690339193: 100%|██████████| 58/58 [00:02<00:00, 21.71it/s]\n",
            "100%|██████████| 15/15 [00:04<00:00,  3.65it/s]\n"
          ]
        },
        {
          "name": "stdout",
          "output_type": "stream",
          "text": [
            "Epoch 87 val_result: {R@1: 0.0, nDCG@10: 5.2568665203769755e-05, R@10: 0.00013588802826470988}\n"
          ]
        },
        {
          "name": "stderr",
          "output_type": "stream",
          "text": [
            "Epoch 88, step 5162, loss=0.0031748550955937936: 100%|██████████| 58/58 [00:02<00:00, 23.64it/s]\n",
            "100%|██████████| 15/15 [00:03<00:00,  3.80it/s]\n"
          ]
        },
        {
          "name": "stdout",
          "output_type": "stream",
          "text": [
            "Epoch 88 val_result: {R@1: 0.0, nDCG@10: 5.2568665203769755e-05, R@10: 0.00013588802826470988}\n"
          ]
        },
        {
          "name": "stderr",
          "output_type": "stream",
          "text": [
            "Epoch 89, step 5220, loss=0.003075867049196214: 100%|██████████| 58/58 [00:02<00:00, 21.75it/s]\n",
            "100%|██████████| 15/15 [00:03<00:00,  3.86it/s]\n"
          ]
        },
        {
          "name": "stdout",
          "output_type": "stream",
          "text": [
            "Epoch 89 val_result: {R@1: 0.0, nDCG@10: 5.2568665203769755e-05, R@10: 0.00013588802826470988}\n"
          ]
        },
        {
          "name": "stderr",
          "output_type": "stream",
          "text": [
            "Epoch 90, step 5278, loss=0.0029750207453887088: 100%|██████████| 58/58 [00:02<00:00, 23.56it/s]\n",
            "100%|██████████| 15/15 [00:04<00:00,  3.40it/s]\n"
          ]
        },
        {
          "name": "stdout",
          "output_type": "stream",
          "text": [
            "Epoch 90 val_result: {R@1: 0.0, nDCG@10: 4.8404292309827716e-05, R@10: 0.00013588802826470988}\n"
          ]
        },
        {
          "name": "stderr",
          "output_type": "stream",
          "text": [
            "Epoch 91, step 5336, loss=0.0029199149158002733: 100%|██████████| 58/58 [00:02<00:00, 23.34it/s]\n",
            "100%|██████████| 15/15 [00:03<00:00,  3.85it/s]\n"
          ]
        },
        {
          "name": "stdout",
          "output_type": "stream",
          "text": [
            "Epoch 91 val_result: {R@1: 0.0, nDCG@10: 4.529600942156996e-05, R@10: 0.00013588802826470988}\n"
          ]
        },
        {
          "name": "stderr",
          "output_type": "stream",
          "text": [
            "Epoch 92, step 5394, loss=0.0027746792425479895: 100%|██████████| 58/58 [00:02<00:00, 23.46it/s]\n",
            "100%|██████████| 15/15 [00:04<00:00,  3.34it/s]\n"
          ]
        },
        {
          "name": "stdout",
          "output_type": "stream",
          "text": [
            "Epoch 92 val_result: {R@1: 0.0, nDCG@10: 4.529600942156996e-05, R@10: 0.00013588802826470988}\n"
          ]
        },
        {
          "name": "stderr",
          "output_type": "stream",
          "text": [
            "Epoch 93, step 5452, loss=0.0027100113292258185: 100%|██████████| 58/58 [00:02<00:00, 23.48it/s]\n",
            "100%|██████████| 15/15 [00:03<00:00,  3.83it/s]\n"
          ]
        },
        {
          "name": "stdout",
          "output_type": "stream",
          "text": [
            "Epoch 93 val_result: {R@1: 0.0, nDCG@10: 4.529600942156996e-05, R@10: 0.00013588802826470988}\n"
          ]
        },
        {
          "name": "stderr",
          "output_type": "stream",
          "text": [
            "Epoch 94, step 5510, loss=0.002589671205587266: 100%|██████████| 58/58 [00:02<00:00, 21.48it/s]\n",
            "100%|██████████| 15/15 [00:04<00:00,  3.68it/s]\n"
          ]
        },
        {
          "name": "stdout",
          "output_type": "stream",
          "text": [
            "Epoch 94 val_result: {R@1: 0.0, nDCG@10: 4.286790009318233e-05, R@10: 0.00013588802826470988}\n"
          ]
        },
        {
          "name": "stderr",
          "output_type": "stream",
          "text": [
            "Epoch 95, step 5568, loss=0.0025582552710869187: 100%|██████████| 58/58 [00:02<00:00, 23.55it/s]\n",
            "100%|██████████| 15/15 [00:03<00:00,  3.84it/s]\n"
          ]
        },
        {
          "name": "stdout",
          "output_type": "stream",
          "text": [
            "Epoch 95 val_result: {R@1: 0.0, nDCG@10: 4.090637255931257e-05, R@10: 0.00013588802826470988}\n"
          ]
        },
        {
          "name": "stderr",
          "output_type": "stream",
          "text": [
            "Epoch 96, step 5626, loss=0.0024658961203697523: 100%|██████████| 58/58 [00:02<00:00, 21.50it/s]\n",
            "100%|██████████| 15/15 [00:03<00:00,  3.83it/s]\n"
          ]
        },
        {
          "name": "stdout",
          "output_type": "stream",
          "text": [
            "Epoch 96 val_result: {R@1: 0.0, nDCG@10: 4.090637255931257e-05, R@10: 0.00013588802826470988}\n"
          ]
        },
        {
          "name": "stderr",
          "output_type": "stream",
          "text": [
            "Epoch 97, step 5684, loss=0.0024268870398580483: 100%|██████████| 58/58 [00:02<00:00, 23.70it/s]\n",
            "100%|██████████| 15/15 [00:04<00:00,  3.36it/s]\n"
          ]
        },
        {
          "name": "stdout",
          "output_type": "stream",
          "text": [
            "Epoch 97 val_result: {R@1: 0.0, nDCG@10: 4.090637255931257e-05, R@10: 0.00013588802826470988}\n"
          ]
        },
        {
          "name": "stderr",
          "output_type": "stream",
          "text": [
            "Epoch 98, step 5742, loss=0.00230567407048525: 100%|██████████| 58/58 [00:02<00:00, 23.47it/s]\n",
            "100%|██████████| 15/15 [00:03<00:00,  3.85it/s]\n"
          ]
        },
        {
          "name": "stdout",
          "output_type": "stream",
          "text": [
            "Epoch 98 val_result: {R@1: 0.0, nDCG@10: 3.92804492890186e-05, R@10: 0.00013588802826470988}\n"
          ]
        },
        {
          "name": "stderr",
          "output_type": "stream",
          "text": [
            "Epoch 99, step 5800, loss=0.002255805037144957: 100%|██████████| 58/58 [00:02<00:00, 23.47it/s]\n",
            "100%|██████████| 15/15 [00:04<00:00,  3.34it/s]\n"
          ]
        },
        {
          "name": "stdout",
          "output_type": "stream",
          "text": [
            "Epoch 99 val_result: {R@1: 0.0, nDCG@10: 3.92804492890186e-05, R@10: 0.00013588802826470988}\n"
          ]
        },
        {
          "name": "stderr",
          "output_type": "stream",
          "text": [
            "Epoch 100, step 5858, loss=0.0021407199128775437: 100%|██████████| 58/58 [00:02<00:00, 23.39it/s]\n",
            "100%|██████████| 15/15 [00:03<00:00,  3.88it/s]\n"
          ]
        },
        {
          "name": "stdout",
          "output_type": "stream",
          "text": [
            "Epoch 100 val_result: {R@1: 0.0, nDCG@10: 0.0, R@10: 0.0}\n"
          ]
        },
        {
          "name": "stderr",
          "output_type": "stream",
          "text": [
            "Epoch 101, step 5916, loss=0.0020957516734264768: 100%|██████████| 58/58 [00:02<00:00, 22.17it/s]\n",
            "100%|██████████| 15/15 [00:04<00:00,  3.63it/s]\n"
          ]
        },
        {
          "name": "stdout",
          "output_type": "stream",
          "text": [
            "Epoch 101 val_result: {R@1: 0.0, nDCG@10: 3.92804492890186e-05, R@10: 0.00013588802826470988}\n"
          ]
        },
        {
          "name": "stderr",
          "output_type": "stream",
          "text": [
            "Epoch 102, step 5974, loss=0.0019989217633701387: 100%|██████████| 58/58 [00:02<00:00, 23.45it/s]\n",
            "100%|██████████| 15/15 [00:03<00:00,  3.82it/s]\n"
          ]
        },
        {
          "name": "stdout",
          "output_type": "stream",
          "text": [
            "Epoch 102 val_result: {R@1: 0.0, nDCG@10: 3.92804492890186e-05, R@10: 0.00013588802826470988}\n"
          ]
        },
        {
          "name": "stderr",
          "output_type": "stream",
          "text": [
            "Epoch 103, step 6032, loss=0.0019023403703217797: 100%|██████████| 58/58 [00:02<00:00, 21.66it/s]\n",
            "100%|██████████| 15/15 [00:03<00:00,  3.89it/s]\n"
          ]
        },
        {
          "name": "stdout",
          "output_type": "stream",
          "text": [
            "Epoch 103 val_result: {R@1: 0.0, nDCG@10: 3.92804492890186e-05, R@10: 0.00013588802826470988}\n"
          ]
        },
        {
          "name": "stderr",
          "output_type": "stream",
          "text": [
            "Epoch 104, step 6090, loss=0.0018983735484246942: 100%|██████████| 58/58 [00:02<00:00, 23.50it/s]\n",
            "100%|██████████| 15/15 [00:04<00:00,  3.41it/s]\n"
          ]
        },
        {
          "name": "stdout",
          "output_type": "stream",
          "text": [
            "Epoch 104 val_result: {R@1: 0.0, nDCG@10: 0.0, R@10: 0.0}\n"
          ]
        },
        {
          "name": "stderr",
          "output_type": "stream",
          "text": [
            "Epoch 105, step 6148, loss=0.001861919587745865: 100%|██████████| 58/58 [00:02<00:00, 23.28it/s]\n",
            "100%|██████████| 15/15 [00:03<00:00,  3.88it/s]\n"
          ]
        },
        {
          "name": "stdout",
          "output_type": "stream",
          "text": [
            "Epoch 105 val_result: {R@1: 0.0, nDCG@10: 0.0, R@10: 0.0}\n"
          ]
        },
        {
          "name": "stderr",
          "output_type": "stream",
          "text": [
            "Epoch 106, step 6206, loss=0.0017895730625918478: 100%|██████████| 58/58 [00:02<00:00, 23.43it/s]\n",
            "100%|██████████| 15/15 [00:04<00:00,  3.35it/s]\n"
          ]
        },
        {
          "name": "stdout",
          "output_type": "stream",
          "text": [
            "Epoch 106 val_result: {R@1: 0.0, nDCG@10: 4.286790009318233e-05, R@10: 0.00013588802826470988}\n"
          ]
        },
        {
          "name": "stderr",
          "output_type": "stream",
          "text": [
            "Epoch 107, step 6264, loss=0.001744643981315167: 100%|██████████| 58/58 [00:02<00:00, 23.40it/s]\n",
            "100%|██████████| 15/15 [00:03<00:00,  3.84it/s]\n"
          ]
        },
        {
          "name": "stdout",
          "output_type": "stream",
          "text": [
            "Epoch 107 val_result: {R@1: 0.0, nDCG@10: 4.529600942156996e-05, R@10: 0.00013588802826470988}\n"
          ]
        },
        {
          "name": "stderr",
          "output_type": "stream",
          "text": [
            "Epoch 108, step 6322, loss=0.0016495836371298418: 100%|██████████| 58/58 [00:02<00:00, 21.54it/s]\n",
            "100%|██████████| 15/15 [00:04<00:00,  3.63it/s]\n"
          ]
        },
        {
          "name": "stdout",
          "output_type": "stream",
          "text": [
            "Epoch 108 val_result: {R@1: 0.0, nDCG@10: 4.529600942156996e-05, R@10: 0.00013588802826470988}\n"
          ]
        },
        {
          "name": "stderr",
          "output_type": "stream",
          "text": [
            "Epoch 109, step 6380, loss=0.0016492604181684296: 100%|██████████| 58/58 [00:02<00:00, 23.19it/s]\n",
            "100%|██████████| 15/15 [00:03<00:00,  3.83it/s]\n"
          ]
        },
        {
          "name": "stdout",
          "output_type": "stream",
          "text": [
            "Epoch 109 val_result: {R@1: 0.0, nDCG@10: 4.090637255931257e-05, R@10: 0.00013588802826470988}\n"
          ]
        },
        {
          "name": "stderr",
          "output_type": "stream",
          "text": [
            "Epoch 110, step 6438, loss=0.0015905244266090648: 100%|██████████| 58/58 [00:02<00:00, 21.34it/s]\n",
            "100%|██████████| 15/15 [00:03<00:00,  3.85it/s]\n"
          ]
        },
        {
          "name": "stdout",
          "output_type": "stream",
          "text": [
            "Epoch 110 val_result: {R@1: 0.0, nDCG@10: 4.090637255931257e-05, R@10: 0.00013588802826470988}\n"
          ]
        },
        {
          "name": "stderr",
          "output_type": "stream",
          "text": [
            "Epoch 111, step 6496, loss=0.0015585042279342126: 100%|██████████| 58/58 [00:02<00:00, 23.43it/s]\n",
            "100%|██████████| 15/15 [00:04<00:00,  3.37it/s]\n"
          ]
        },
        {
          "name": "stdout",
          "output_type": "stream",
          "text": [
            "Epoch 111 val_result: {R@1: 0.0, nDCG@10: 4.090637255931257e-05, R@10: 0.00013588802826470988}\n"
          ]
        },
        {
          "name": "stderr",
          "output_type": "stream",
          "text": [
            "Epoch 112, step 6554, loss=0.0015057471646453535: 100%|██████████| 58/58 [00:02<00:00, 23.24it/s]\n",
            "100%|██████████| 15/15 [00:03<00:00,  3.89it/s]\n"
          ]
        },
        {
          "name": "stdout",
          "output_type": "stream",
          "text": [
            "Epoch 112 val_result: {R@1: 0.0, nDCG@10: 4.286790009318233e-05, R@10: 0.00013588802826470988}\n"
          ]
        },
        {
          "name": "stderr",
          "output_type": "stream",
          "text": [
            "Epoch 113, step 6612, loss=0.001488772804042605: 100%|██████████| 58/58 [00:02<00:00, 23.31it/s]\n",
            "100%|██████████| 15/15 [00:04<00:00,  3.30it/s]\n"
          ]
        },
        {
          "name": "stdout",
          "output_type": "stream",
          "text": [
            "Epoch 113 val_result: {R@1: 0.0, nDCG@10: 4.529600942156996e-05, R@10: 0.00013588802826470988}\n"
          ]
        },
        {
          "name": "stderr",
          "output_type": "stream",
          "text": [
            "Epoch 114, step 6670, loss=0.0014266729511242398: 100%|██████████| 58/58 [00:02<00:00, 23.49it/s]\n",
            "100%|██████████| 15/15 [00:03<00:00,  3.87it/s]\n"
          ]
        },
        {
          "name": "stdout",
          "output_type": "stream",
          "text": [
            "Epoch 114 val_result: {R@1: 0.0, nDCG@10: 4.8404292309827716e-05, R@10: 0.00013588802826470988}\n"
          ]
        },
        {
          "name": "stderr",
          "output_type": "stream",
          "text": [
            "Epoch 115, step 6728, loss=0.0013730000122035018: 100%|██████████| 58/58 [00:02<00:00, 21.33it/s]\n",
            "100%|██████████| 15/15 [00:04<00:00,  3.65it/s]\n"
          ]
        },
        {
          "name": "stdout",
          "output_type": "stream",
          "text": [
            "Epoch 115 val_result: {R@1: 0.0, nDCG@10: 3.92804492890186e-05, R@10: 0.00013588802826470988}\n"
          ]
        },
        {
          "name": "stderr",
          "output_type": "stream",
          "text": [
            "Epoch 116, step 6786, loss=0.001408006721432849: 100%|██████████| 58/58 [00:02<00:00, 23.39it/s]\n",
            "100%|██████████| 15/15 [00:03<00:00,  3.82it/s]\n"
          ]
        },
        {
          "name": "stdout",
          "output_type": "stream",
          "text": [
            "Epoch 116 val_result: {R@1: 0.0, nDCG@10: 3.92804492890186e-05, R@10: 0.00013588802826470988}\n"
          ]
        },
        {
          "name": "stderr",
          "output_type": "stream",
          "text": [
            "Epoch 117, step 6844, loss=0.0013338220460870542: 100%|██████████| 58/58 [00:02<00:00, 21.63it/s]\n",
            "100%|██████████| 15/15 [00:03<00:00,  3.88it/s]\n"
          ]
        },
        {
          "name": "stdout",
          "output_type": "stream",
          "text": [
            "Epoch 117 val_result: {R@1: 0.0, nDCG@10: 4.529600942156996e-05, R@10: 0.00013588802826470988}\n"
          ]
        },
        {
          "name": "stderr",
          "output_type": "stream",
          "text": [
            "Epoch 118, step 6902, loss=0.0013010012424707206: 100%|██████████| 58/58 [00:02<00:00, 23.57it/s]\n",
            "100%|██████████| 15/15 [00:04<00:00,  3.40it/s]\n"
          ]
        },
        {
          "name": "stdout",
          "output_type": "stream",
          "text": [
            "Epoch 118 val_result: {R@1: 0.0, nDCG@10: 4.090637255931257e-05, R@10: 0.00013588802826470988}\n"
          ]
        },
        {
          "name": "stderr",
          "output_type": "stream",
          "text": [
            "Epoch 119, step 6960, loss=0.0012651990392598613: 100%|██████████| 58/58 [00:02<00:00, 23.37it/s]\n",
            "100%|██████████| 15/15 [00:03<00:00,  3.87it/s]\n"
          ]
        },
        {
          "name": "stdout",
          "output_type": "stream",
          "text": [
            "Epoch 119 val_result: {R@1: 0.0, nDCG@10: 4.286790009318233e-05, R@10: 0.00013588802826470988}\n"
          ]
        },
        {
          "name": "stderr",
          "output_type": "stream",
          "text": [
            "Epoch 120, step 7018, loss=0.0012236328168654584: 100%|██████████| 58/58 [00:02<00:00, 23.46it/s]\n",
            "100%|██████████| 15/15 [00:04<00:00,  3.29it/s]\n"
          ]
        },
        {
          "name": "stdout",
          "output_type": "stream",
          "text": [
            "Epoch 120 val_result: {R@1: 0.0, nDCG@10: 0.0, R@10: 0.0}\n"
          ]
        },
        {
          "name": "stderr",
          "output_type": "stream",
          "text": [
            "Epoch 121, step 7076, loss=0.001224589090291021: 100%|██████████| 58/58 [00:02<00:00, 23.09it/s]\n",
            "100%|██████████| 15/15 [00:03<00:00,  3.83it/s]\n"
          ]
        },
        {
          "name": "stdout",
          "output_type": "stream",
          "text": [
            "Epoch 121 val_result: {R@1: 0.0, nDCG@10: 3.92804492890186e-05, R@10: 0.00013588802826470988}\n"
          ]
        },
        {
          "name": "stderr",
          "output_type": "stream",
          "text": [
            "Epoch 122, step 7134, loss=0.0011387860216043695: 100%|██████████| 58/58 [00:02<00:00, 22.02it/s]\n",
            "100%|██████████| 15/15 [00:04<00:00,  3.66it/s]\n"
          ]
        },
        {
          "name": "stdout",
          "output_type": "stream",
          "text": [
            "Epoch 122 val_result: {R@1: 0.0, nDCG@10: 0.0, R@10: 0.0}\n"
          ]
        },
        {
          "name": "stderr",
          "output_type": "stream",
          "text": [
            "Epoch 123, step 7192, loss=0.0011235906983890443: 100%|██████████| 58/58 [00:02<00:00, 23.32it/s]\n",
            "100%|██████████| 15/15 [00:03<00:00,  3.83it/s]\n"
          ]
        },
        {
          "name": "stdout",
          "output_type": "stream",
          "text": [
            "Epoch 123 val_result: {R@1: 0.0, nDCG@10: 0.0, R@10: 0.0}\n"
          ]
        },
        {
          "name": "stderr",
          "output_type": "stream",
          "text": [
            "Epoch 124, step 7250, loss=0.001070920318365097: 100%|██████████| 58/58 [00:02<00:00, 22.02it/s]\n",
            "100%|██████████| 15/15 [00:03<00:00,  3.95it/s]\n"
          ]
        },
        {
          "name": "stdout",
          "output_type": "stream",
          "text": [
            "Epoch 124 val_result: {R@1: 0.0, nDCG@10: 4.090637255931257e-05, R@10: 0.00013588802826470988}\n"
          ]
        },
        {
          "name": "stderr",
          "output_type": "stream",
          "text": [
            "Epoch 125, step 7308, loss=0.0010800443775238204: 100%|██████████| 58/58 [00:02<00:00, 23.92it/s]\n",
            "100%|██████████| 15/15 [00:04<00:00,  3.58it/s]\n"
          ]
        },
        {
          "name": "stdout",
          "output_type": "stream",
          "text": [
            "Epoch 125 val_result: {R@1: 0.0, nDCG@10: 0.0, R@10: 0.0}\n"
          ]
        },
        {
          "name": "stderr",
          "output_type": "stream",
          "text": [
            "Epoch 126, step 7366, loss=0.0010774351429864825: 100%|██████████| 58/58 [00:02<00:00, 23.65it/s]\n",
            "100%|██████████| 15/15 [00:03<00:00,  3.94it/s]\n"
          ]
        },
        {
          "name": "stdout",
          "output_type": "stream",
          "text": [
            "Epoch 126 val_result: {R@1: 0.0, nDCG@10: 0.0, R@10: 0.0}\n"
          ]
        },
        {
          "name": "stderr",
          "output_type": "stream",
          "text": [
            "Epoch 127, step 7424, loss=0.0010483709077655885: 100%|██████████| 58/58 [00:02<00:00, 23.83it/s]\n",
            "100%|██████████| 15/15 [00:04<00:00,  3.39it/s]\n"
          ]
        },
        {
          "name": "stdout",
          "output_type": "stream",
          "text": [
            "Epoch 127 val_result: {R@1: 0.0, nDCG@10: 0.0, R@10: 0.0}\n"
          ]
        },
        {
          "name": "stderr",
          "output_type": "stream",
          "text": [
            "Epoch 128, step 7482, loss=0.0010048035433651832: 100%|██████████| 58/58 [00:02<00:00, 23.73it/s]\n",
            "100%|██████████| 15/15 [00:03<00:00,  3.89it/s]\n"
          ]
        },
        {
          "name": "stdout",
          "output_type": "stream",
          "text": [
            "Epoch 128 val_result: {R@1: 0.0, nDCG@10: 0.0, R@10: 0.0}\n"
          ]
        },
        {
          "name": "stderr",
          "output_type": "stream",
          "text": [
            "Epoch 129, step 7540, loss=0.001009744484797713: 100%|██████████| 58/58 [00:02<00:00, 22.90it/s]\n",
            "100%|██████████| 15/15 [00:04<00:00,  3.50it/s]\n"
          ]
        },
        {
          "name": "stdout",
          "output_type": "stream",
          "text": [
            "Epoch 129 val_result: {R@1: 0.0, nDCG@10: 3.92804492890186e-05, R@10: 0.00013588802826470988}\n"
          ]
        },
        {
          "name": "stderr",
          "output_type": "stream",
          "text": [
            "Epoch 130, step 7598, loss=0.000974022454103378: 100%|██████████| 58/58 [00:02<00:00, 23.08it/s]\n",
            "100%|██████████| 15/15 [00:03<00:00,  3.87it/s]\n"
          ]
        },
        {
          "name": "stdout",
          "output_type": "stream",
          "text": [
            "Epoch 130 val_result: {R@1: 0.0, nDCG@10: 4.090637255931257e-05, R@10: 0.00013588802826470988}\n"
          ]
        },
        {
          "name": "stderr",
          "output_type": "stream",
          "text": [
            "Epoch 131, step 7656, loss=0.0009836390178529944: 100%|██████████| 58/58 [00:02<00:00, 20.51it/s]\n",
            "100%|██████████| 15/15 [00:03<00:00,  3.86it/s]\n"
          ]
        },
        {
          "name": "stdout",
          "output_type": "stream",
          "text": [
            "Epoch 131 val_result: {R@1: 0.0, nDCG@10: 3.92804492890186e-05, R@10: 0.00013588802826470988}\n"
          ]
        },
        {
          "name": "stderr",
          "output_type": "stream",
          "text": [
            "Epoch 132, step 7714, loss=0.0009406261688877271: 100%|██████████| 58/58 [00:02<00:00, 22.68it/s]\n",
            "100%|██████████| 15/15 [00:04<00:00,  3.52it/s]\n"
          ]
        },
        {
          "name": "stdout",
          "output_type": "stream",
          "text": [
            "Epoch 132 val_result: {R@1: 0.0, nDCG@10: 4.090637255931257e-05, R@10: 0.00013588802826470988}\n"
          ]
        },
        {
          "name": "stderr",
          "output_type": "stream",
          "text": [
            "Epoch 133, step 7772, loss=0.0009041053419851238: 100%|██████████| 58/58 [00:02<00:00, 22.75it/s]\n",
            "100%|██████████| 15/15 [00:03<00:00,  3.83it/s]\n"
          ]
        },
        {
          "name": "stdout",
          "output_type": "stream",
          "text": [
            "Epoch 133 val_result: {R@1: 0.0, nDCG@10: 0.0, R@10: 0.0}\n"
          ]
        },
        {
          "name": "stderr",
          "output_type": "stream",
          "text": [
            "Epoch 134, step 7830, loss=0.0008980946779479469: 100%|██████████| 58/58 [00:02<00:00, 22.62it/s]\n",
            "100%|██████████| 15/15 [00:04<00:00,  3.34it/s]\n"
          ]
        },
        {
          "name": "stdout",
          "output_type": "stream",
          "text": [
            "Epoch 134 val_result: {R@1: 0.0, nDCG@10: 0.0, R@10: 0.0}\n"
          ]
        },
        {
          "name": "stderr",
          "output_type": "stream",
          "text": [
            "Epoch 135, step 7888, loss=0.0008877331984151933: 100%|██████████| 58/58 [00:02<00:00, 23.14it/s]\n",
            "100%|██████████| 15/15 [00:03<00:00,  3.85it/s]\n"
          ]
        },
        {
          "name": "stdout",
          "output_type": "stream",
          "text": [
            "Epoch 135 val_result: {R@1: 0.0, nDCG@10: 0.0, R@10: 0.0}\n"
          ]
        },
        {
          "name": "stderr",
          "output_type": "stream",
          "text": [
            "Epoch 136, step 7946, loss=0.000893987756500969: 100%|██████████| 58/58 [00:02<00:00, 21.73it/s]\n",
            "100%|██████████| 15/15 [00:04<00:00,  3.53it/s]\n"
          ]
        },
        {
          "name": "stdout",
          "output_type": "stream",
          "text": [
            "Epoch 136 val_result: {R@1: 0.0, nDCG@10: 0.0, R@10: 0.0}\n"
          ]
        },
        {
          "name": "stderr",
          "output_type": "stream",
          "text": [
            "Epoch 137, step 8004, loss=0.0008696705142016533: 100%|██████████| 58/58 [00:02<00:00, 23.50it/s]\n",
            "100%|██████████| 15/15 [00:03<00:00,  3.86it/s]\n"
          ]
        },
        {
          "name": "stdout",
          "output_type": "stream",
          "text": [
            "Epoch 137 val_result: {R@1: 0.0, nDCG@10: 0.0, R@10: 0.0}\n"
          ]
        },
        {
          "name": "stderr",
          "output_type": "stream",
          "text": [
            "Epoch 138, step 8062, loss=0.0008416293691210699: 100%|██████████| 58/58 [00:02<00:00, 21.33it/s]\n",
            "100%|██████████| 15/15 [00:03<00:00,  3.85it/s]\n"
          ]
        },
        {
          "name": "stdout",
          "output_type": "stream",
          "text": [
            "Epoch 138 val_result: {R@1: 0.0, nDCG@10: 3.92804492890186e-05, R@10: 0.00013588802826470988}\n"
          ]
        },
        {
          "name": "stderr",
          "output_type": "stream",
          "text": [
            "Epoch 139, step 8120, loss=0.0008245029775746938: 100%|██████████| 58/58 [00:02<00:00, 23.08it/s]\n",
            "100%|██████████| 15/15 [00:04<00:00,  3.41it/s]\n"
          ]
        },
        {
          "name": "stdout",
          "output_type": "stream",
          "text": [
            "Epoch 139 val_result: {R@1: 0.0, nDCG@10: 3.92804492890186e-05, R@10: 0.00013588802826470988}\n"
          ]
        },
        {
          "name": "stderr",
          "output_type": "stream",
          "text": [
            "Epoch 140, step 8178, loss=0.000812031570106825: 100%|██████████| 58/58 [00:02<00:00, 23.30it/s]\n",
            "100%|██████████| 15/15 [00:03<00:00,  3.86it/s]\n"
          ]
        },
        {
          "name": "stdout",
          "output_type": "stream",
          "text": [
            "Epoch 140 val_result: {R@1: 0.0, nDCG@10: 3.92804492890186e-05, R@10: 0.00013588802826470988}\n"
          ]
        },
        {
          "name": "stderr",
          "output_type": "stream",
          "text": [
            "Epoch 141, step 8236, loss=0.0008064680988346274: 100%|██████████| 58/58 [00:02<00:00, 23.06it/s]\n",
            "100%|██████████| 15/15 [00:04<00:00,  3.32it/s]\n"
          ]
        },
        {
          "name": "stdout",
          "output_type": "stream",
          "text": [
            "Epoch 141 val_result: {R@1: 0.0, nDCG@10: 3.92804492890186e-05, R@10: 0.00013588802826470988}\n"
          ]
        },
        {
          "name": "stderr",
          "output_type": "stream",
          "text": [
            "Epoch 142, step 8294, loss=0.0007496367001823842: 100%|██████████| 58/58 [00:02<00:00, 23.32it/s]\n",
            "100%|██████████| 15/15 [00:03<00:00,  3.87it/s]\n"
          ]
        },
        {
          "name": "stdout",
          "output_type": "stream",
          "text": [
            "Epoch 142 val_result: {R@1: 0.0, nDCG@10: 3.92804492890186e-05, R@10: 0.00013588802826470988}\n"
          ]
        },
        {
          "name": "stderr",
          "output_type": "stream",
          "text": [
            "Epoch 143, step 8352, loss=0.000766704037385882: 100%|██████████| 58/58 [00:02<00:00, 21.67it/s]\n",
            "100%|██████████| 15/15 [00:04<00:00,  3.63it/s]\n"
          ]
        },
        {
          "name": "stdout",
          "output_type": "stream",
          "text": [
            "Epoch 143 val_result: {R@1: 0.0, nDCG@10: 3.92804492890186e-05, R@10: 0.00013588802826470988}\n"
          ]
        },
        {
          "name": "stderr",
          "output_type": "stream",
          "text": [
            "Epoch 144, step 8410, loss=0.0007696373053736693: 100%|██████████| 58/58 [00:02<00:00, 23.11it/s]\n",
            "100%|██████████| 15/15 [00:03<00:00,  3.80it/s]\n"
          ]
        },
        {
          "name": "stdout",
          "output_type": "stream",
          "text": [
            "Epoch 144 val_result: {R@1: 0.0, nDCG@10: 0.0, R@10: 0.0}\n"
          ]
        },
        {
          "name": "stderr",
          "output_type": "stream",
          "text": [
            "Epoch 145, step 8468, loss=0.0007073470137496011: 100%|██████████| 58/58 [00:02<00:00, 21.41it/s]\n",
            "100%|██████████| 15/15 [00:03<00:00,  3.84it/s]\n"
          ]
        },
        {
          "name": "stdout",
          "output_type": "stream",
          "text": [
            "Epoch 145 val_result: {R@1: 0.0, nDCG@10: 0.0, R@10: 0.0}\n"
          ]
        },
        {
          "name": "stderr",
          "output_type": "stream",
          "text": [
            "Epoch 146, step 8526, loss=0.0007170116760006203: 100%|██████████| 58/58 [00:02<00:00, 23.34it/s]\n",
            "100%|██████████| 15/15 [00:04<00:00,  3.46it/s]\n"
          ]
        },
        {
          "name": "stdout",
          "output_type": "stream",
          "text": [
            "Epoch 146 val_result: {R@1: 0.0, nDCG@10: 0.0, R@10: 0.0}\n"
          ]
        },
        {
          "name": "stderr",
          "output_type": "stream",
          "text": [
            "Epoch 147, step 8584, loss=0.0007026951481438027: 100%|██████████| 58/58 [00:02<00:00, 23.18it/s]\n",
            "100%|██████████| 15/15 [00:03<00:00,  3.85it/s]\n"
          ]
        },
        {
          "name": "stdout",
          "output_type": "stream",
          "text": [
            "Epoch 147 val_result: {R@1: 0.0, nDCG@10: 0.0, R@10: 0.0}\n"
          ]
        },
        {
          "name": "stderr",
          "output_type": "stream",
          "text": [
            "Epoch 148, step 8642, loss=0.0006874321466986434: 100%|██████████| 58/58 [00:02<00:00, 23.00it/s]\n",
            "100%|██████████| 15/15 [00:04<00:00,  3.31it/s]\n"
          ]
        },
        {
          "name": "stdout",
          "output_type": "stream",
          "text": [
            "Epoch 148 val_result: {R@1: 0.0, nDCG@10: 0.0, R@10: 0.0}\n"
          ]
        },
        {
          "name": "stderr",
          "output_type": "stream",
          "text": [
            "Epoch 149, step 8700, loss=0.0006790443843808667: 100%|██████████| 58/58 [00:02<00:00, 23.12it/s]\n",
            "100%|██████████| 15/15 [00:03<00:00,  3.86it/s]\n"
          ]
        },
        {
          "name": "stdout",
          "output_type": "stream",
          "text": [
            "Epoch 149 val_result: {R@1: 0.0, nDCG@10: 3.92804492890186e-05, R@10: 0.00013588802826470988}\n"
          ]
        },
        {
          "name": "stderr",
          "output_type": "stream",
          "text": [
            "Epoch 150, step 8758, loss=0.0006695157714523281: 100%|██████████| 58/58 [00:02<00:00, 21.55it/s]\n",
            "100%|██████████| 15/15 [00:04<00:00,  3.65it/s]\n"
          ]
        },
        {
          "name": "stdout",
          "output_type": "stream",
          "text": [
            "Epoch 150 val_result: {R@1: 0.0, nDCG@10: 4.286790009318233e-05, R@10: 0.00013588802826470988}\n"
          ]
        },
        {
          "name": "stderr",
          "output_type": "stream",
          "text": [
            "Epoch 151, step 8816, loss=0.0006880680658599318: 100%|██████████| 58/58 [00:02<00:00, 23.39it/s]\n",
            "100%|██████████| 15/15 [00:03<00:00,  3.82it/s]\n"
          ]
        },
        {
          "name": "stdout",
          "output_type": "stream",
          "text": [
            "Epoch 151 val_result: {R@1: 0.0, nDCG@10: 4.090637255931257e-05, R@10: 0.00013588802826470988}\n"
          ]
        },
        {
          "name": "stderr",
          "output_type": "stream",
          "text": [
            "Epoch 152, step 8874, loss=0.0006694971426988954: 100%|██████████| 58/58 [00:02<00:00, 21.46it/s]\n",
            "100%|██████████| 15/15 [00:03<00:00,  3.87it/s]\n"
          ]
        },
        {
          "name": "stdout",
          "output_type": "stream",
          "text": [
            "Epoch 152 val_result: {R@1: 0.0, nDCG@10: 4.090637255931257e-05, R@10: 0.00013588802826470988}\n"
          ]
        },
        {
          "name": "stderr",
          "output_type": "stream",
          "text": [
            "Epoch 153, step 8932, loss=0.0006320939815957291: 100%|██████████| 58/58 [00:02<00:00, 23.24it/s]\n",
            "100%|██████████| 15/15 [00:04<00:00,  3.37it/s]\n"
          ]
        },
        {
          "name": "stdout",
          "output_type": "stream",
          "text": [
            "Epoch 153 val_result: {R@1: 0.0, nDCG@10: 4.529600942156996e-05, R@10: 0.00013588802826470988}\n"
          ]
        },
        {
          "name": "stderr",
          "output_type": "stream",
          "text": [
            "Epoch 154, step 8990, loss=0.0006183303353916418: 100%|██████████| 58/58 [00:02<00:00, 23.07it/s]\n",
            "100%|██████████| 15/15 [00:03<00:00,  3.87it/s]\n"
          ]
        },
        {
          "name": "stdout",
          "output_type": "stream",
          "text": [
            "Epoch 154 val_result: {R@1: 0.0, nDCG@10: 4.090637255931257e-05, R@10: 0.00013588802826470988}\n"
          ]
        },
        {
          "name": "stderr",
          "output_type": "stream",
          "text": [
            "Epoch 155, step 9048, loss=0.0006363086713680538: 100%|██████████| 58/58 [00:02<00:00, 23.00it/s]\n",
            "100%|██████████| 15/15 [00:04<00:00,  3.31it/s]\n"
          ]
        },
        {
          "name": "stdout",
          "output_type": "stream",
          "text": [
            "Epoch 155 val_result: {R@1: 0.0, nDCG@10: 5.2568665203769755e-05, R@10: 0.00013588802826470988}\n"
          ]
        },
        {
          "name": "stderr",
          "output_type": "stream",
          "text": [
            "Epoch 156, step 9106, loss=0.0006213071834817185: 100%|██████████| 58/58 [00:02<00:00, 23.18it/s]\n",
            "100%|██████████| 15/15 [00:03<00:00,  3.87it/s]\n"
          ]
        },
        {
          "name": "stdout",
          "output_type": "stream",
          "text": [
            "Epoch 156 val_result: {R@1: 0.0, nDCG@10: 5.85237882964252e-05, R@10: 0.00013588802826470988}\n"
          ]
        },
        {
          "name": "stderr",
          "output_type": "stream",
          "text": [
            "Epoch 157, step 9164, loss=0.0005891501418969768: 100%|██████████| 58/58 [00:02<00:00, 21.13it/s]\n",
            "100%|██████████| 15/15 [00:04<00:00,  3.67it/s]\n"
          ]
        },
        {
          "name": "stdout",
          "output_type": "stream",
          "text": [
            "Epoch 157 val_result: {R@1: 0.0, nDCG@10: 6.794401413235494e-05, R@10: 0.00013588802826470988}\n"
          ]
        },
        {
          "name": "stderr",
          "output_type": "stream",
          "text": [
            "Epoch 158, step 9222, loss=0.0005930942521420251: 100%|██████████| 58/58 [00:02<00:00, 23.14it/s]\n",
            "100%|██████████| 15/15 [00:03<00:00,  3.78it/s]\n"
          ]
        },
        {
          "name": "stdout",
          "output_type": "stream",
          "text": [
            "Epoch 158 val_result: {R@1: 0.0, nDCG@10: 6.794401413235494e-05, R@10: 0.00013588802826470988}\n"
          ]
        },
        {
          "name": "stderr",
          "output_type": "stream",
          "text": [
            "Epoch 159, step 9280, loss=0.0005932564481868055: 100%|██████████| 58/58 [00:02<00:00, 20.69it/s]\n",
            "100%|██████████| 15/15 [00:03<00:00,  3.86it/s]\n"
          ]
        },
        {
          "name": "stdout",
          "output_type": "stream",
          "text": [
            "Epoch 159 val_result: {R@1: 0.0, nDCG@10: 5.85237882964252e-05, R@10: 0.00013588802826470988}\n"
          ]
        },
        {
          "name": "stderr",
          "output_type": "stream",
          "text": [
            "Epoch 160, step 9338, loss=0.0005700686225628899: 100%|██████████| 58/58 [00:02<00:00, 22.63it/s]\n",
            "100%|██████████| 15/15 [00:04<00:00,  3.35it/s]\n"
          ]
        },
        {
          "name": "stdout",
          "output_type": "stream",
          "text": [
            "Epoch 160 val_result: {R@1: 0.0, nDCG@10: 3.92804492890186e-05, R@10: 0.00013588802826470988}\n"
          ]
        },
        {
          "name": "stderr",
          "output_type": "stream",
          "text": [
            "Epoch 161, step 9396, loss=0.0005830819102019236: 100%|██████████| 58/58 [00:02<00:00, 22.81it/s]\n",
            "100%|██████████| 15/15 [00:03<00:00,  3.81it/s]\n"
          ]
        },
        {
          "name": "stdout",
          "output_type": "stream",
          "text": [
            "Epoch 161 val_result: {R@1: 0.0, nDCG@10: 4.8404292309827716e-05, R@10: 0.00013588802826470988}\n"
          ]
        },
        {
          "name": "stderr",
          "output_type": "stream",
          "text": [
            "Epoch 162, step 9454, loss=0.0005930837571639855: 100%|██████████| 58/58 [00:02<00:00, 22.19it/s]\n",
            "100%|██████████| 15/15 [00:04<00:00,  3.31it/s]\n"
          ]
        },
        {
          "name": "stdout",
          "output_type": "stream",
          "text": [
            "Epoch 162 val_result: {R@1: 0.0, nDCG@10: 5.85237882964252e-05, R@10: 0.00013588802826470988}\n"
          ]
        },
        {
          "name": "stderr",
          "output_type": "stream",
          "text": [
            "Epoch 163, step 9512, loss=0.0005707203714479359: 100%|██████████| 58/58 [00:02<00:00, 23.31it/s]\n",
            "100%|██████████| 15/15 [00:03<00:00,  3.84it/s]\n"
          ]
        },
        {
          "name": "stdout",
          "output_type": "stream",
          "text": [
            "Epoch 163 val_result: {R@1: 0.0, nDCG@10: 4.286790009318233e-05, R@10: 0.00013588802826470988}\n"
          ]
        },
        {
          "name": "stderr",
          "output_type": "stream",
          "text": [
            "Epoch 164, step 9570, loss=0.0005279569926524736: 100%|██████████| 58/58 [00:02<00:00, 20.04it/s]\n",
            "100%|██████████| 15/15 [00:03<00:00,  3.85it/s]\n"
          ]
        },
        {
          "name": "stdout",
          "output_type": "stream",
          "text": [
            "Epoch 164 val_result: {R@1: 0.0, nDCG@10: 4.286790009318233e-05, R@10: 0.00013588802826470988}\n"
          ]
        },
        {
          "name": "stderr",
          "output_type": "stream",
          "text": [
            "Epoch 165, step 9628, loss=0.0005210763343393579: 100%|██████████| 58/58 [00:02<00:00, 22.72it/s]\n",
            "100%|██████████| 15/15 [00:04<00:00,  3.62it/s]\n"
          ]
        },
        {
          "name": "stdout",
          "output_type": "stream",
          "text": [
            "Epoch 165 val_result: {R@1: 0.0, nDCG@10: 4.286790009318233e-05, R@10: 0.00013588802826470988}\n"
          ]
        },
        {
          "name": "stderr",
          "output_type": "stream",
          "text": [
            "Epoch 166, step 9686, loss=0.0005442194506793679: 100%|██████████| 58/58 [00:02<00:00, 21.97it/s]\n",
            "100%|██████████| 15/15 [00:03<00:00,  3.83it/s]\n"
          ]
        },
        {
          "name": "stdout",
          "output_type": "stream",
          "text": [
            "Epoch 166 val_result: {R@1: 0.0, nDCG@10: 4.090637255931257e-05, R@10: 0.00013588802826470988}\n"
          ]
        },
        {
          "name": "stderr",
          "output_type": "stream",
          "text": [
            "Epoch 167, step 9744, loss=0.0005259380223954399: 100%|██████████| 58/58 [00:02<00:00, 23.06it/s]\n",
            "100%|██████████| 15/15 [00:04<00:00,  3.34it/s]\n"
          ]
        },
        {
          "name": "stdout",
          "output_type": "stream",
          "text": [
            "Epoch 167 val_result: {R@1: 0.0, nDCG@10: 4.8404292309827716e-05, R@10: 0.00013588802826470988}\n"
          ]
        },
        {
          "name": "stderr",
          "output_type": "stream",
          "text": [
            "Epoch 168, step 9802, loss=0.0005135722857419386: 100%|██████████| 58/58 [00:02<00:00, 23.14it/s]\n",
            "100%|██████████| 15/15 [00:03<00:00,  3.86it/s]\n"
          ]
        },
        {
          "name": "stdout",
          "output_type": "stream",
          "text": [
            "Epoch 168 val_result: {R@1: 0.0, nDCG@10: 3.92804492890186e-05, R@10: 0.00013588802826470988}\n"
          ]
        },
        {
          "name": "stderr",
          "output_type": "stream",
          "text": [
            "Epoch 169, step 9860, loss=0.0005156627321581812: 100%|██████████| 58/58 [00:02<00:00, 22.55it/s]\n",
            "100%|██████████| 15/15 [00:04<00:00,  3.39it/s]\n"
          ]
        },
        {
          "name": "stdout",
          "output_type": "stream",
          "text": [
            "Epoch 169 val_result: {R@1: 0.0, nDCG@10: 5.85237882964252e-05, R@10: 0.00013588802826470988}\n"
          ]
        },
        {
          "name": "stderr",
          "output_type": "stream",
          "text": [
            "Epoch 170, step 9918, loss=0.0005100300762051896: 100%|██████████| 58/58 [00:02<00:00, 23.14it/s]\n",
            "100%|██████████| 15/15 [00:03<00:00,  3.86it/s]\n"
          ]
        },
        {
          "name": "stdout",
          "output_type": "stream",
          "text": [
            "Epoch 170 val_result: {R@1: 0.0, nDCG@10: 5.85237882964252e-05, R@10: 0.00013588802826470988}\n"
          ]
        },
        {
          "name": "stderr",
          "output_type": "stream",
          "text": [
            "Epoch 171, step 9976, loss=0.0004926029205883897: 100%|██████████| 58/58 [00:02<00:00, 20.76it/s]\n",
            "100%|██████████| 15/15 [00:03<00:00,  3.93it/s]\n"
          ]
        },
        {
          "name": "stdout",
          "output_type": "stream",
          "text": [
            "Epoch 171 val_result: {R@1: 0.0, nDCG@10: 4.8404292309827716e-05, R@10: 0.00013588802826470988}\n"
          ]
        },
        {
          "name": "stderr",
          "output_type": "stream",
          "text": [
            "Epoch 172, step 10034, loss=0.0004840797967637039: 100%|██████████| 58/58 [00:02<00:00, 22.91it/s]\n",
            "100%|██████████| 15/15 [00:04<00:00,  3.68it/s]\n"
          ]
        },
        {
          "name": "stdout",
          "output_type": "stream",
          "text": [
            "Epoch 172 val_result: {R@1: 0.0, nDCG@10: 4.8404292309827716e-05, R@10: 0.00013588802826470988}\n"
          ]
        },
        {
          "name": "stderr",
          "output_type": "stream",
          "text": [
            "Epoch 173, step 10092, loss=0.00047012780111222526: 100%|██████████| 58/58 [00:02<00:00, 21.98it/s]\n",
            "100%|██████████| 15/15 [00:03<00:00,  3.87it/s]\n"
          ]
        },
        {
          "name": "stdout",
          "output_type": "stream",
          "text": [
            "Epoch 173 val_result: {R@1: 0.0, nDCG@10: 4.529600942156996e-05, R@10: 0.00013588802826470988}\n"
          ]
        },
        {
          "name": "stderr",
          "output_type": "stream",
          "text": [
            "Epoch 174, step 10150, loss=0.0004710285662870689: 100%|██████████| 58/58 [00:02<00:00, 22.98it/s]\n",
            "100%|██████████| 15/15 [00:04<00:00,  3.40it/s]\n"
          ]
        },
        {
          "name": "stdout",
          "output_type": "stream",
          "text": [
            "Epoch 174 val_result: {R@1: 0.0, nDCG@10: 4.8404292309827716e-05, R@10: 0.00013588802826470988}\n"
          ]
        },
        {
          "name": "stderr",
          "output_type": "stream",
          "text": [
            "Epoch 175, step 10208, loss=0.0004801423742135163: 100%|██████████| 58/58 [00:02<00:00, 23.06it/s]\n",
            "100%|██████████| 15/15 [00:03<00:00,  3.85it/s]\n"
          ]
        },
        {
          "name": "stdout",
          "output_type": "stream",
          "text": [
            "Epoch 175 val_result: {R@1: 0.0, nDCG@10: 4.286790009318233e-05, R@10: 0.00013588802826470988}\n"
          ]
        },
        {
          "name": "stderr",
          "output_type": "stream",
          "text": [
            "Epoch 176, step 10266, loss=0.0004425847686256741: 100%|██████████| 58/58 [00:02<00:00, 22.41it/s]\n",
            "100%|██████████| 15/15 [00:04<00:00,  3.40it/s]\n"
          ]
        },
        {
          "name": "stdout",
          "output_type": "stream",
          "text": [
            "Epoch 176 val_result: {R@1: 0.0, nDCG@10: 4.8404292309827716e-05, R@10: 0.00013588802826470988}\n"
          ]
        },
        {
          "name": "stderr",
          "output_type": "stream",
          "text": [
            "Epoch 177, step 10324, loss=0.00044336713307798023: 100%|██████████| 58/58 [00:02<00:00, 23.36it/s]\n",
            "100%|██████████| 15/15 [00:03<00:00,  3.89it/s]\n"
          ]
        },
        {
          "name": "stdout",
          "output_type": "stream",
          "text": [
            "Epoch 177 val_result: {R@1: 0.0, nDCG@10: 4.090637255931257e-05, R@10: 0.00013588802826470988}\n"
          ]
        },
        {
          "name": "stderr",
          "output_type": "stream",
          "text": [
            "Epoch 178, step 10382, loss=0.0004657882069650355: 100%|██████████| 58/58 [00:02<00:00, 20.71it/s]\n",
            "100%|██████████| 15/15 [00:03<00:00,  3.83it/s]\n"
          ]
        },
        {
          "name": "stdout",
          "output_type": "stream",
          "text": [
            "Epoch 178 val_result: {R@1: 0.0, nDCG@10: 4.8404292309827716e-05, R@10: 0.00013588802826470988}\n"
          ]
        },
        {
          "name": "stderr",
          "output_type": "stream",
          "text": [
            "Epoch 179, step 10440, loss=0.00043864138852590804: 100%|██████████| 58/58 [00:02<00:00, 23.22it/s]\n",
            "100%|██████████| 15/15 [00:04<00:00,  3.66it/s]\n"
          ]
        },
        {
          "name": "stdout",
          "output_type": "stream",
          "text": [
            "Epoch 179 val_result: {R@1: 0.0, nDCG@10: 4.529600942156996e-05, R@10: 0.00013588802826470988}\n"
          ]
        },
        {
          "name": "stderr",
          "output_type": "stream",
          "text": [
            "Epoch 180, step 10498, loss=0.00043602880309776795: 100%|██████████| 58/58 [00:02<00:00, 21.78it/s]\n",
            "100%|██████████| 15/15 [00:03<00:00,  3.84it/s]\n"
          ]
        },
        {
          "name": "stdout",
          "output_type": "stream",
          "text": [
            "Epoch 180 val_result: {R@1: 0.0, nDCG@10: 4.090637255931257e-05, R@10: 0.00013588802826470988}\n"
          ]
        },
        {
          "name": "stderr",
          "output_type": "stream",
          "text": [
            "Epoch 181, step 10556, loss=0.00043240347160742833: 100%|██████████| 58/58 [00:02<00:00, 22.46it/s]\n",
            "100%|██████████| 15/15 [00:04<00:00,  3.29it/s]\n"
          ]
        },
        {
          "name": "stdout",
          "output_type": "stream",
          "text": [
            "Epoch 181 val_result: {R@1: 0.0, nDCG@10: 4.529600942156996e-05, R@10: 0.00013588802826470988}\n"
          ]
        },
        {
          "name": "stderr",
          "output_type": "stream",
          "text": [
            "Epoch 182, step 10614, loss=0.00042288472189086967: 100%|██████████| 58/58 [00:02<00:00, 22.64it/s]\n",
            "100%|██████████| 15/15 [00:03<00:00,  3.87it/s]\n"
          ]
        },
        {
          "name": "stdout",
          "output_type": "stream",
          "text": [
            "Epoch 182 val_result: {R@1: 0.0, nDCG@10: 4.286790009318233e-05, R@10: 0.00013588802826470988}\n"
          ]
        },
        {
          "name": "stderr",
          "output_type": "stream",
          "text": [
            "Epoch 183, step 10672, loss=0.0004210676830345723: 100%|██████████| 58/58 [00:02<00:00, 22.35it/s]\n",
            "100%|██████████| 15/15 [00:04<00:00,  3.33it/s]\n"
          ]
        },
        {
          "name": "stdout",
          "output_type": "stream",
          "text": [
            "Epoch 183 val_result: {R@1: 0.0, nDCG@10: 3.92804492890186e-05, R@10: 0.00013588802826470988}\n"
          ]
        },
        {
          "name": "stderr",
          "output_type": "stream",
          "text": [
            "Epoch 184, step 10730, loss=0.00041201063548974197: 100%|██████████| 58/58 [00:02<00:00, 22.24it/s]\n",
            "100%|██████████| 15/15 [00:03<00:00,  3.78it/s]\n"
          ]
        },
        {
          "name": "stdout",
          "output_type": "stream",
          "text": [
            "Epoch 184 val_result: {R@1: 0.0, nDCG@10: 4.090637255931257e-05, R@10: 0.00013588802826470988}\n"
          ]
        },
        {
          "name": "stderr",
          "output_type": "stream",
          "text": [
            "Epoch 185, step 10788, loss=0.0003968451802664038: 100%|██████████| 58/58 [00:02<00:00, 20.17it/s]\n",
            "100%|██████████| 15/15 [00:03<00:00,  3.84it/s]\n"
          ]
        },
        {
          "name": "stdout",
          "output_type": "stream",
          "text": [
            "Epoch 185 val_result: {R@1: 0.0, nDCG@10: 3.92804492890186e-05, R@10: 0.00013588802826470988}\n"
          ]
        },
        {
          "name": "stderr",
          "output_type": "stream",
          "text": [
            "Epoch 186, step 10846, loss=0.00041539519654304236: 100%|██████████| 58/58 [00:02<00:00, 22.37it/s]\n",
            "100%|██████████| 15/15 [00:04<00:00,  3.50it/s]\n"
          ]
        },
        {
          "name": "stdout",
          "output_type": "stream",
          "text": [
            "Epoch 186 val_result: {R@1: 0.0, nDCG@10: 3.92804492890186e-05, R@10: 0.00013588802826470988}\n"
          ]
        },
        {
          "name": "stderr",
          "output_type": "stream",
          "text": [
            "Epoch 187, step 10904, loss=0.00039732770998405343: 100%|██████████| 58/58 [00:02<00:00, 22.52it/s]\n",
            "100%|██████████| 15/15 [00:03<00:00,  3.86it/s]\n"
          ]
        },
        {
          "name": "stdout",
          "output_type": "stream",
          "text": [
            "Epoch 187 val_result: {R@1: 0.0, nDCG@10: 4.529600942156996e-05, R@10: 0.00013588802826470988}\n"
          ]
        },
        {
          "name": "stderr",
          "output_type": "stream",
          "text": [
            "Epoch 188, step 10962, loss=0.00039156829699387276: 100%|██████████| 58/58 [00:02<00:00, 23.06it/s]\n",
            "100%|██████████| 15/15 [00:04<00:00,  3.32it/s]\n"
          ]
        },
        {
          "name": "stdout",
          "output_type": "stream",
          "text": [
            "Epoch 188 val_result: {R@1: 0.0, nDCG@10: 4.090637255931257e-05, R@10: 0.00013588802826470988}\n"
          ]
        },
        {
          "name": "stderr",
          "output_type": "stream",
          "text": [
            "Epoch 189, step 11020, loss=0.00040902491057200356: 100%|██████████| 58/58 [00:02<00:00, 22.92it/s]\n",
            "100%|██████████| 15/15 [00:03<00:00,  3.83it/s]\n"
          ]
        },
        {
          "name": "stdout",
          "output_type": "stream",
          "text": [
            "Epoch 189 val_result: {R@1: 0.0, nDCG@10: 4.8404292309827716e-05, R@10: 0.00013588802826470988}\n"
          ]
        },
        {
          "name": "stderr",
          "output_type": "stream",
          "text": [
            "Epoch 190, step 11078, loss=0.00039281783378991564: 100%|██████████| 58/58 [00:02<00:00, 21.44it/s]\n",
            "100%|██████████| 15/15 [00:04<00:00,  3.57it/s]\n"
          ]
        },
        {
          "name": "stdout",
          "output_type": "stream",
          "text": [
            "Epoch 190 val_result: {R@1: 0.0, nDCG@10: 9.184911449278836e-05, R@10: 0.00027177605652941976}\n"
          ]
        },
        {
          "name": "stderr",
          "output_type": "stream",
          "text": [
            "Epoch 191, step 11136, loss=0.0003700385436525397: 100%|██████████| 58/58 [00:02<00:00, 23.16it/s]\n",
            "100%|██████████| 15/15 [00:03<00:00,  3.84it/s]\n"
          ]
        },
        {
          "name": "stdout",
          "output_type": "stream",
          "text": [
            "Epoch 191 val_result: {R@1: 0.0, nDCG@10: 4.529600942156996e-05, R@10: 0.00013588802826470988}\n"
          ]
        },
        {
          "name": "stderr",
          "output_type": "stream",
          "text": [
            "Epoch 192, step 11194, loss=0.00036894656452873635: 100%|██████████| 58/58 [00:02<00:00, 20.86it/s]\n",
            "100%|██████████| 15/15 [00:03<00:00,  3.87it/s]\n"
          ]
        },
        {
          "name": "stdout",
          "output_type": "stream",
          "text": [
            "Epoch 192 val_result: {R@1: 0.0, nDCG@10: 9.184911449278836e-05, R@10: 0.00027177605652941976}\n"
          ]
        },
        {
          "name": "stderr",
          "output_type": "stream",
          "text": [
            "Epoch 193, step 11252, loss=0.0003719960050998402: 100%|██████████| 58/58 [00:02<00:00, 22.96it/s]\n",
            "100%|██████████| 15/15 [00:04<00:00,  3.45it/s]\n"
          ]
        },
        {
          "name": "stdout",
          "output_type": "stream",
          "text": [
            "Epoch 193 val_result: {R@1: 0.0, nDCG@10: 4.529600942156996e-05, R@10: 0.00013588802826470988}\n"
          ]
        },
        {
          "name": "stderr",
          "output_type": "stream",
          "text": [
            "Epoch 194, step 11310, loss=0.00036682540815979056: 100%|██████████| 58/58 [00:02<00:00, 23.02it/s]\n",
            "100%|██████████| 15/15 [00:03<00:00,  3.86it/s]\n"
          ]
        },
        {
          "name": "stdout",
          "output_type": "stream",
          "text": [
            "Epoch 194 val_result: {R@1: 0.0, nDCG@10: 0.0, R@10: 0.0}\n"
          ]
        },
        {
          "name": "stderr",
          "output_type": "stream",
          "text": [
            "Epoch 195, step 11368, loss=0.00037139490047531344: 100%|██████████| 58/58 [00:02<00:00, 22.74it/s]\n",
            "100%|██████████| 15/15 [00:04<00:00,  3.30it/s]\n"
          ]
        },
        {
          "name": "stdout",
          "output_type": "stream",
          "text": [
            "Epoch 195 val_result: {R@1: 0.0, nDCG@10: 5.2568665203769755e-05, R@10: 0.00013588802826470988}\n"
          ]
        },
        {
          "name": "stderr",
          "output_type": "stream",
          "text": [
            "Epoch 196, step 11426, loss=0.0003540133403699911: 100%|██████████| 58/58 [00:02<00:00, 22.89it/s]\n",
            "100%|██████████| 15/15 [00:03<00:00,  3.86it/s]\n"
          ]
        },
        {
          "name": "stdout",
          "output_type": "stream",
          "text": [
            "Epoch 196 val_result: {R@1: 0.0, nDCG@10: 4.529600942156996e-05, R@10: 0.00013588802826470988}\n"
          ]
        },
        {
          "name": "stderr",
          "output_type": "stream",
          "text": [
            "Epoch 197, step 11484, loss=0.00037784540772085114: 100%|██████████| 58/58 [00:02<00:00, 21.76it/s]\n",
            "100%|██████████| 15/15 [00:04<00:00,  3.58it/s]\n"
          ]
        },
        {
          "name": "stdout",
          "output_type": "stream",
          "text": [
            "Epoch 197 val_result: {R@1: 0.0, nDCG@10: 5.2568665203769755e-05, R@10: 0.00013588802826470988}\n"
          ]
        },
        {
          "name": "stderr",
          "output_type": "stream",
          "text": [
            "Epoch 198, step 11542, loss=0.0003447657974872282: 100%|██████████| 58/58 [00:02<00:00, 22.99it/s]\n",
            "100%|██████████| 15/15 [00:03<00:00,  3.81it/s]\n"
          ]
        },
        {
          "name": "stdout",
          "output_type": "stream",
          "text": [
            "Epoch 198 val_result: {R@1: 0.0, nDCG@10: 5.2568665203769755e-05, R@10: 0.00013588802826470988}\n"
          ]
        },
        {
          "name": "stderr",
          "output_type": "stream",
          "text": [
            "Epoch 199, step 11600, loss=0.0003527793301076725: 100%|██████████| 58/58 [00:02<00:00, 21.54it/s]\n",
            "100%|██████████| 15/15 [00:03<00:00,  3.87it/s]\n"
          ]
        },
        {
          "name": "stdout",
          "output_type": "stream",
          "text": [
            "Epoch 199 val_result: {R@1: 0.0, nDCG@10: 4.286790009318233e-05, R@10: 0.00013588802826470988}\n"
          ]
        },
        {
          "name": "stderr",
          "output_type": "stream",
          "text": [
            "Epoch 200, step 11658, loss=0.00035353338636354386: 100%|██████████| 58/58 [00:02<00:00, 23.13it/s]\n",
            "100%|██████████| 15/15 [00:04<00:00,  3.40it/s]\n"
          ]
        },
        {
          "name": "stdout",
          "output_type": "stream",
          "text": [
            "Epoch 200 val_result: {R@1: 0.0, nDCG@10: 4.529600942156996e-05, R@10: 0.00013588802826470988}\n"
          ]
        },
        {
          "name": "stderr",
          "output_type": "stream",
          "text": [
            "Epoch 201, step 11716, loss=0.0003344473470677773: 100%|██████████| 58/58 [00:02<00:00, 22.67it/s]\n",
            "100%|██████████| 15/15 [00:03<00:00,  3.85it/s]\n"
          ]
        },
        {
          "name": "stdout",
          "output_type": "stream",
          "text": [
            "Epoch 201 val_result: {R@1: 0.0, nDCG@10: 4.090637255931257e-05, R@10: 0.00013588802826470988}\n",
            "Early stopping triggered.\n"
          ]
        }
      ],
      "source": [
        "from argparse import ArgumentParser\n",
        "import os\n",
        "\n",
        "import torch\n",
        "from torchinfo import summary\n",
        "from tqdm import tqdm\n",
        "\n",
        "from utils import load_config, build_model, get_device\n",
        "from dataset_utils import get_train_dataloader, get_val_dataloader, get_num_items\n",
        "from eval_utils import evaluate\n",
        "\n",
        "models_dir = \"models\"\n",
        "os.makedirs(models_dir, exist_ok=True)\n",
        "\n",
        "parser = ArgumentParser()\n",
        "parser.add_argument('--config', type=str, default='config_retailrocket.py')\n",
        "parser.add_argument('--use_predefined_neg', action='store_true', default=False,\n",
        "                    help=\"при установке флага будем использовать заранее определённые негативы.\")\n",
        "\n",
        "if any('jupyter' in arg for arg in sys.argv) or any('ipykernel' in arg for arg in sys.argv):\n",
        "    args, unknown = parser.parse_known_args([])\n",
        "else:\n",
        "    args, unknown = parser.parse_known_args()\n",
        "\n",
        "config = load_config(args.config)\n",
        "num_items = get_num_items(config.dataset_name)\n",
        "device = get_device()\n",
        "model = build_model(config).to(device)\n",
        "\n",
        "train_dataloader = get_train_dataloader(\n",
        "    config.dataset_name,\n",
        "    batch_size=config.train_batch_size,\n",
        "    max_length=config.sequence_length\n",
        ")\n",
        "val_dataloader = get_val_dataloader(\n",
        "    config.dataset_name,\n",
        "    batch_size=config.eval_batch_size,\n",
        "    max_length=config.sequence_length\n",
        ")\n",
        "\n",
        "optimizer = torch.optim.Adam(model.parameters(), lr=1e-3)\n",
        "\n",
        "batches_per_epoch = min(config.max_batches_per_epoch, len(train_dataloader))\n",
        "\n",
        "best_metric = float(\"-inf\")\n",
        "best_model_name = None\n",
        "step = 0\n",
        "steps_not_improved = 0\n",
        "\n",
        "summary(model, (config.train_batch_size, config.sequence_length), batch_dim=None)\n",
        "\n",
        "def not_to_recommend_loss(logits, labels, mask):\n",
        "    \"\"\"\n",
        "    logits shape: [B, max_len]\n",
        "    labels shape: [B, max_len] (0 или 1)\n",
        "    mask   shape: [B, max_len], 1=считаем в лоссе, 0=пропускаем (padding)\n",
        "    sum( y*log(sigmoid(logit)) + (1-y)*log(1 - sigmoid(logit)) )\n",
        "    но в варианте \"p = softmax(...)?\"\n",
        "    В gSASRec p обычно получается через скалярное произведение с эмбеддингами,\n",
        "    но можно и sigmoid. Можно делать logits -> sigma,\n",
        "    затем -log(sigma) или -log(1-sigma).\n",
        "\n",
        "    реализация BCE:\n",
        "    BCE(pos) = -log(sigmoid(logit)),\n",
        "    BCE(neg) = -log(1 - sigmoid(logit)).\n",
        "    \"\"\"\n",
        "    # считаем p = sigmoid(logits)\n",
        "    # logits[B, max_len]\n",
        "    preds = torch.sigmoid(logits)\n",
        "    # labels: 1 => -log(preds), 0 => -log(1 - preds)\n",
        "    eps = 1e-8\n",
        "    loss_pos = -labels * torch.log(preds + eps)\n",
        "    loss_neg = -(1 - labels) * torch.log(1 - preds + eps)\n",
        "    loss_elm = loss_pos + loss_neg  # [B, max_len]\n",
        "    loss_elm = loss_elm * mask      # убираем паддинги\n",
        "    loss_mean = loss_elm.sum() / (mask.sum() + eps)\n",
        "    return loss_mean\n",
        "\n",
        "for epoch in range(config.max_epochs):\n",
        "    model.train()\n",
        "    batch_iter = iter(train_dataloader)\n",
        "    pbar = tqdm(range(batches_per_epoch))\n",
        "    loss_sum = 0.0\n",
        "\n",
        "    for _ in pbar:\n",
        "        step += 1\n",
        "        try:\n",
        "            pos_seq, neg_seq, pos_labels, neg_labels = next(batch_iter)\n",
        "        except StopIteration:\n",
        "            break\n",
        "\n",
        "        pos_seq = pos_seq.to(device)  # [B, max_len]\n",
        "        neg_seq = neg_seq.to(device)\n",
        "        pos_labels = pos_labels.to(device).float()  # [B, max_len], 1\n",
        "        neg_labels = neg_labels.to(device).float()  # [B, max_len], 0\n",
        "\n",
        "        # формируем общий вход (concat).\n",
        "        # несколько вариантов — обучать Transformer на pos_seq и neg_seq раздельно или чередовать.\n",
        "        # Делвем:\n",
        "        #   1) делаем forward отдельно для pos_seq, получаем скрытые представления + head на айтем?\n",
        "        #   2) тоже самое для neg_seq.\n",
        "        #   3) считаем лосс.\n",
        "        # Ниже дыа отдельных прохода.\n",
        "\n",
        "        # Forward для pos_seq\n",
        "        last_hidden_pos, _ = model(pos_seq)   # shape [B, max_len, emb]\n",
        "        # SASRec предсказывает \"следующий item\" по последнему hidden,\n",
        "        # но если хотим просто \"точечно\" получить логиты для самих pos_seq,\n",
        "        # можно сделать скалярное произв.\n",
        "        # Например, logits_pos[b, t] = dot( last_hidden_pos[b, t], E[item=t] ).\n",
        "        # Но проще \"head\" сделать для каждого item:\n",
        "        # в gSASRec по умолчанию get_predictions() смотрит на последний шаг.\n",
        "        # Поэтрму, чтобы воспроизвести логику \"по всем позициям\", нужнр вычислять logits.\n",
        "        # допустим: logits = W * hidden (linear), а itemID - часть лейбла.\n",
        "        # Берем:\n",
        "        # logits_pos[b,t] = < last_hidden_pos[b,t], output_embedding(pos_seq[b,t]) >\n",
        "\n",
        "        output_embeddings = model.get_output_embeddings().weight  # shape [num_items+2, emb]\n",
        "        # собираем вектор для каждого pos_seq[b,t]\n",
        "        # pos_seq[b,t] — это индекс itemID (с учётом паддинга)\n",
        "        # для удобства:\n",
        "        bsz, seqlen = pos_seq.shape\n",
        "        # создаем logits_pos[b, t] = dot( hidden[b,t], emb_of_item( pos_seq[b,t] ) )\n",
        "        hidden_dim = last_hidden_pos.size(-1)\n",
        "        emb_pos = output_embeddings[pos_seq.view(-1)]  # shape [B*seqlen, emb]\n",
        "        hidden_pos = last_hidden_pos.view(-1, hidden_dim)  # same\n",
        "        logits_pos = torch.sum(hidden_pos * emb_pos, dim=-1)  # [B*seqlen]\n",
        "        logits_pos = logits_pos.view(bsz, seqlen)            # [B, seqlen]\n",
        "\n",
        "        # то же самое для neg_seq\n",
        "        last_hidden_neg, _ = model(neg_seq)\n",
        "        emb_neg = output_embeddings[neg_seq.view(-1)]\n",
        "        hidden_neg = last_hidden_neg.view(-1, hidden_dim)\n",
        "        logits_neg = torch.sum(hidden_neg * emb_neg, dim=-1).view(bsz, seqlen)\n",
        "\n",
        "        # итоговые logits и labels\n",
        "        # посчитаем лосс отдельно и сложим.\n",
        "        # L = L(pos) + L(neg).\n",
        "        # mask = 1, если item != pad_value, иначе 0.\n",
        "        pad_val = num_items + 1\n",
        "        mask_pos = (pos_seq != pad_val).float()\n",
        "        mask_neg = (neg_seq != pad_val).float()\n",
        "\n",
        "        loss_pos_val = not_to_recommend_loss(logits_pos, pos_labels, mask_pos)\n",
        "        loss_neg_val = not_to_recommend_loss(logits_neg, neg_labels, mask_neg)\n",
        "        loss = loss_pos_val + loss_neg_val\n",
        "\n",
        "        optimizer.zero_grad()\n",
        "        loss.backward()\n",
        "        optimizer.step()\n",
        "\n",
        "        loss_sum += loss.item()\n",
        "        pbar.set_description(f\"Epoch {epoch}, step {step}, loss={loss_sum / (step)}\")\n",
        "\n",
        "    # валидация\n",
        "    evaluation_result = evaluate(model, val_dataloader, config.metrics,\n",
        "                                 config.recommendation_limit, config.filter_rated, device=device)\n",
        "    print(f\"Epoch {epoch} val_result: {evaluation_result}\")\n",
        "\n",
        "    metric_value = evaluation_result[config.val_metric]\n",
        "    if metric_value > best_metric:\n",
        "        best_metric = metric_value\n",
        "        model_name = f\"{models_dir}/gsasrec-{config.dataset_name}-epoch{epoch}-step{step}-val{best_metric:.4f}.pt\"\n",
        "        if best_model_name and os.path.exists(best_model_name):\n",
        "            os.remove(best_model_name)\n",
        "        best_model_name = model_name\n",
        "        torch.save(model.state_dict(), model_name)\n",
        "        steps_not_improved = 0\n",
        "        print(f\"New best model saved to {model_name}\")\n",
        "    else:\n",
        "        steps_not_improved += 1\n",
        "        if steps_not_improved >= config.early_stopping_patience:\n",
        "            print(\"Early stopping triggered.\")\n",
        "            break"
      ]
    }
  ],
  "metadata": {
    "accelerator": "GPU",
    "colab": {
      "gpuType": "T4",
      "provenance": []
    },
    "kernelspec": {
      "display_name": "Python 3",
      "name": "python3"
    },
    "language_info": {
      "name": "python"
    }
  },
  "nbformat": 4,
  "nbformat_minor": 0
}
